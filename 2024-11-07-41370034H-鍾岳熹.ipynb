{
 "cells": [
  {
   "cell_type": "code",
   "execution_count": 2,
   "metadata": {},
   "outputs": [],
   "source": [
    "import pandas as pd\n",
    "import statsmodels.api as sm\n",
    "import numpy as np"
   ]
  },
  {
   "cell_type": "code",
   "execution_count": 3,
   "metadata": {},
   "outputs": [],
   "source": [
    "df2 = pd.DataFrame(np.random.randn(100,4),columns=list(\"ABCD\"))"
   ]
  },
  {
   "cell_type": "code",
   "execution_count": 4,
   "metadata": {},
   "outputs": [
    {
     "data": {
      "text/html": [
       "<div>\n",
       "<style scoped>\n",
       "    .dataframe tbody tr th:only-of-type {\n",
       "        vertical-align: middle;\n",
       "    }\n",
       "\n",
       "    .dataframe tbody tr th {\n",
       "        vertical-align: top;\n",
       "    }\n",
       "\n",
       "    .dataframe thead th {\n",
       "        text-align: right;\n",
       "    }\n",
       "</style>\n",
       "<table border=\"1\" class=\"dataframe\">\n",
       "  <thead>\n",
       "    <tr style=\"text-align: right;\">\n",
       "      <th></th>\n",
       "      <th>const</th>\n",
       "      <th>A</th>\n",
       "    </tr>\n",
       "  </thead>\n",
       "  <tbody>\n",
       "    <tr>\n",
       "      <th>0</th>\n",
       "      <td>1.0</td>\n",
       "      <td>0.305046</td>\n",
       "    </tr>\n",
       "    <tr>\n",
       "      <th>1</th>\n",
       "      <td>1.0</td>\n",
       "      <td>-1.476564</td>\n",
       "    </tr>\n",
       "    <tr>\n",
       "      <th>2</th>\n",
       "      <td>1.0</td>\n",
       "      <td>-1.798180</td>\n",
       "    </tr>\n",
       "    <tr>\n",
       "      <th>3</th>\n",
       "      <td>1.0</td>\n",
       "      <td>-1.072757</td>\n",
       "    </tr>\n",
       "    <tr>\n",
       "      <th>4</th>\n",
       "      <td>1.0</td>\n",
       "      <td>-2.041700</td>\n",
       "    </tr>\n",
       "    <tr>\n",
       "      <th>...</th>\n",
       "      <td>...</td>\n",
       "      <td>...</td>\n",
       "    </tr>\n",
       "    <tr>\n",
       "      <th>95</th>\n",
       "      <td>1.0</td>\n",
       "      <td>0.304941</td>\n",
       "    </tr>\n",
       "    <tr>\n",
       "      <th>96</th>\n",
       "      <td>1.0</td>\n",
       "      <td>0.623736</td>\n",
       "    </tr>\n",
       "    <tr>\n",
       "      <th>97</th>\n",
       "      <td>1.0</td>\n",
       "      <td>0.412393</td>\n",
       "    </tr>\n",
       "    <tr>\n",
       "      <th>98</th>\n",
       "      <td>1.0</td>\n",
       "      <td>-2.031536</td>\n",
       "    </tr>\n",
       "    <tr>\n",
       "      <th>99</th>\n",
       "      <td>1.0</td>\n",
       "      <td>0.440750</td>\n",
       "    </tr>\n",
       "  </tbody>\n",
       "</table>\n",
       "<p>100 rows × 2 columns</p>\n",
       "</div>"
      ],
      "text/plain": [
       "    const         A\n",
       "0     1.0  0.305046\n",
       "1     1.0 -1.476564\n",
       "2     1.0 -1.798180\n",
       "3     1.0 -1.072757\n",
       "4     1.0 -2.041700\n",
       "..    ...       ...\n",
       "95    1.0  0.304941\n",
       "96    1.0  0.623736\n",
       "97    1.0  0.412393\n",
       "98    1.0 -2.031536\n",
       "99    1.0  0.440750\n",
       "\n",
       "[100 rows x 2 columns]"
      ]
     },
     "execution_count": 4,
     "metadata": {},
     "output_type": "execute_result"
    }
   ],
   "source": [
    "x = df2[\"A\"]\n",
    "y = df2[\"B\"]\n",
    "#add a constant for the model (for the intercept term)\n",
    "x = sm.add_constant(x)\n",
    "x"
   ]
  },
  {
   "cell_type": "code",
   "execution_count": 6,
   "metadata": {},
   "outputs": [
    {
     "name": "stdout",
     "output_type": "stream",
     "text": [
      "                            OLS Regression Results                            \n",
      "==============================================================================\n",
      "Dep. Variable:                      B   R-squared:                       0.007\n",
      "Model:                            OLS   Adj. R-squared:                 -0.003\n",
      "Method:                 Least Squares   F-statistic:                    0.6913\n",
      "Date:                Thu, 07 Nov 2024   Prob (F-statistic):              0.408\n",
      "Time:                        23:06:21   Log-Likelihood:                -134.80\n",
      "No. Observations:                 100   AIC:                             273.6\n",
      "Df Residuals:                      98   BIC:                             278.8\n",
      "Df Model:                           1                                         \n",
      "Covariance Type:            nonrobust                                         \n",
      "==============================================================================\n",
      "                 coef    std err          t      P>|t|      [0.025      0.975]\n",
      "------------------------------------------------------------------------------\n",
      "const         -0.1507      0.094     -1.600      0.113      -0.338       0.036\n",
      "A              0.0764      0.092      0.831      0.408      -0.106       0.259\n",
      "==============================================================================\n",
      "Omnibus:                        0.333   Durbin-Watson:                   2.392\n",
      "Prob(Omnibus):                  0.847   Jarque-Bera (JB):                0.497\n",
      "Skew:                           0.096   Prob(JB):                        0.780\n",
      "Kurtosis:                       2.713   Cond. No.                         1.05\n",
      "==============================================================================\n",
      "\n",
      "Notes:\n",
      "[1] Standard Errors assume that the covariance matrix of the errors is correctly specified.\n"
     ]
    }
   ],
   "source": [
    "#fit the regression model\n",
    "model = sm.OLS(y,x).fit()\n",
    "print(model.summary())"
   ]
  },
  {
   "cell_type": "markdown",
   "metadata": {},
   "source": [
    "作業一"
   ]
  },
  {
   "cell_type": "code",
   "execution_count": 7,
   "metadata": {},
   "outputs": [
    {
     "name": "stdout",
     "output_type": "stream",
     "text": [
      "                            OLS Regression Results                            \n",
      "==============================================================================\n",
      "Dep. Variable:                      B   R-squared:                       0.003\n",
      "Model:                            OLS   Adj. R-squared:                 -0.018\n",
      "Method:                 Least Squares   F-statistic:                    0.1245\n",
      "Date:                Thu, 07 Nov 2024   Prob (F-statistic):              0.883\n",
      "Time:                        23:08:36   Log-Likelihood:                -137.95\n",
      "No. Observations:                 100   AIC:                             281.9\n",
      "Df Residuals:                      97   BIC:                             289.7\n",
      "Df Model:                           2                                         \n",
      "Covariance Type:            nonrobust                                         \n",
      "==============================================================================\n",
      "                 coef    std err          t      P>|t|      [0.025      0.975]\n",
      "------------------------------------------------------------------------------\n",
      "const         -0.1135      0.098     -1.156      0.250      -0.308       0.081\n",
      "A              0.0121      0.100      0.121      0.904      -0.187       0.211\n",
      "C              0.0456      0.098      0.467      0.642      -0.148       0.239\n",
      "==============================================================================\n",
      "Omnibus:                        1.413   Durbin-Watson:                   1.778\n",
      "Prob(Omnibus):                  0.493   Jarque-Bera (JB):                1.450\n",
      "Skew:                           0.272   Prob(JB):                        0.484\n",
      "Kurtosis:                       2.772   Cond. No.                         1.16\n",
      "==============================================================================\n",
      "\n",
      "Notes:\n",
      "[1] Standard Errors assume that the covariance matrix of the errors is correctly specified.\n"
     ]
    }
   ],
   "source": [
    "import pandas as pd\n",
    "import statsmodels.api as sm\n",
    "import numpy as np\n",
    "\n",
    "# Create a sample DataFrame\n",
    "df2 = pd.DataFrame(np.random.randn(100, 4), columns=list(\"ABCD\"))\n",
    "\n",
    "# Define the dependent variable\n",
    "y = df2['B']\n",
    "\n",
    "# Define the independent variables (multiple predictors)\n",
    "X = df2.iloc[:, [0, 2]]  # Use columns A and C as predictors\n",
    "\n",
    "# Add a constant to the model (for the intercept term)\n",
    "X = sm.add_constant(X)\n",
    "\n",
    "# Fit the regression model\n",
    "model = sm.OLS(y, X).fit()\n",
    "\n",
    "# Display the regression results\n",
    "print(model.summary())\n"
   ]
  },
  {
   "cell_type": "code",
   "execution_count": null,
   "metadata": {},
   "outputs": [],
   "source": [
    "import pandas as pd\n",
    " import numpy as np\n",
    " from sklearn.ensemble import RandomForestRegressor\n",
    " from sklearn.model_selection import train_test_split\n",
    " from sklearn.metrics import mean_squared_error\n",
    " df = pd.read_csv('A_stat_data_112.csv')\n",
    " # 假設要預測'correct_rate' 並使用其他數值型變量作為特徵\n",
    "df = df.dropna(subset=['correct_rate']) # 去除 'correct_rate' 為 NaN 的行\n",
    "X = df[['grade', 'is_completed', 'answer_duration_sec']] # 例選三個特徵\n",
    "y = df['correct_rate']\n",
    " # 分割訓練集和測試集\n",
    "X_train, X_test, y_train, y_test = train_test_split(X, y, test_size=0.2, random_state=42)\n",
    " # 訓練隨機森林回歸模型\n",
    "rf_model = RandomForestRegressor(n_estimators=100, random_state=42)\n",
    " rf_model.fit(X_train, y_train)\n",
    " # 預測及評估\n",
    "y_pred = rf_model.predict(X_test)\n",
    " print(\"均方誤差(MSE):\", mean_squared_error(y_test, y_pred))\n",
    "# 將特徵重要性與特徵名稱對應起來\n",
    "feature_importance = pd.DataFrame({\n",
    " 'Feature': X.columns,\n",
    " 'Importance': rf_model.feature_importances_\n",
    " })\n",
    " # 顯示特徵重要性\n",
    "print(feature_importance)\n",
    " #R2\n",
    " from sklearn.metrics import r2_score\n",
    " r2 = r2_score(y_test, y_pred)\n",
    " print(\"R^2:\", r2)"
   ]
  }
 ],
 "metadata": {
  "kernelspec": {
   "display_name": "Python 3",
   "language": "python",
   "name": "python3"
  },
  "language_info": {
   "codemirror_mode": {
    "name": "ipython",
    "version": 3
   },
   "file_extension": ".py",
   "mimetype": "text/x-python",
   "name": "python",
   "nbconvert_exporter": "python",
   "pygments_lexer": "ipython3",
   "version": "3.11.4"
  }
 },
 "nbformat": 4,
 "nbformat_minor": 2
}
