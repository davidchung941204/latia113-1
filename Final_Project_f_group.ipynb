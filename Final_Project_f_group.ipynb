{
 "cells": [
  {
   "cell_type": "code",
   "execution_count": 2,
   "metadata": {
    "colab": {
     "base_uri": "https://localhost:8080/"
    },
    "id": "oFE0-rnaHlJw",
    "outputId": "01012907-4486-47fb-fd95-f1eefaabfd0a"
   },
   "outputs": [],
   "source": [
    "# %pip install pandas matplotlib fastparquet scikit-learn plotly nbformat"
   ]
  },
  {
   "cell_type": "code",
   "execution_count": 3,
   "metadata": {
    "id": "p-XBxMHsHZ0s"
   },
   "outputs": [],
   "source": [
    "from IPython.core.interactiveshell import InteractiveShell\n",
    "import pandas as pd\n",
    "import plotly.express as px\n",
    "import plotly.graph_objects as go\n",
    "from copy import deepcopy\n",
    "import numpy as np\n",
    "pd.options.display.max_rows = 2000\n",
    "InteractiveShell.ast_node_interactivity = \"all\""
   ]
  },
  {
   "cell_type": "markdown",
   "metadata": {
    "id": "mKdH3hpTQQu1"
   },
   "source": [
    "# Prepare"
   ]
  },
  {
   "cell_type": "code",
   "execution_count": 4,
   "metadata": {
    "id": "kqcVuWSCHuj7"
   },
   "outputs": [],
   "source": [
    "original_df = pd.read_parquet(\"./A_stat_data_112.parquet\")"
   ]
  },
  {
   "cell_type": "code",
   "execution_count": 5,
   "metadata": {
    "id": "3F0VISpFHyEg"
   },
   "outputs": [],
   "source": [
    "df = deepcopy(original_df[['grade', 'mission_difficulty', 'mission_field',\n",
    "    'mission_type', 'answer_duration_sec', 'correct_rate']])"
   ]
  },
  {
   "cell_type": "code",
   "execution_count": 6,
   "metadata": {},
   "outputs": [],
   "source": [
    "df['grade'] = df['grade'].map(int)"
   ]
  },
  {
   "cell_type": "markdown",
   "metadata": {},
   "source": [
    "# Data Inspection"
   ]
  },
  {
   "cell_type": "code",
   "execution_count": 7,
   "metadata": {},
   "outputs": [
    {
     "data": {
      "text/plain": [
       "array([5, 6, 4, 7, 8, 9])"
      ]
     },
     "execution_count": 7,
     "metadata": {},
     "output_type": "execute_result"
    }
   ],
   "source": [
    "pd.unique(df['grade'])"
   ]
  },
  {
   "cell_type": "code",
   "execution_count": 8,
   "metadata": {},
   "outputs": [
    {
     "data": {
      "text/plain": [
       "grade                    int64\n",
       "mission_difficulty      object\n",
       "mission_field           object\n",
       "mission_type            object\n",
       "answer_duration_sec      Int64\n",
       "correct_rate           float64\n",
       "dtype: object"
      ]
     },
     "execution_count": 8,
     "metadata": {},
     "output_type": "execute_result"
    }
   ],
   "source": [
    "df.dtypes"
   ]
  },
  {
   "cell_type": "markdown",
   "metadata": {
    "id": "4iEqf1qhQwyN"
   },
   "source": [
    "# Task 1"
   ]
  },
  {
   "cell_type": "code",
   "execution_count": 9,
   "metadata": {},
   "outputs": [],
   "source": [
    "df_ = df.copy()"
   ]
  },
  {
   "cell_type": "code",
   "execution_count": 10,
   "metadata": {
    "id": "7BMIIKKDQ4M5"
   },
   "outputs": [],
   "source": [
    "# magic\n",
    "np.random.seed(7122)\n",
    "for i in range(4, 10):\n",
    "    ps = [\n",
    "        [0.7, 0.25, 0.05], \n",
    "        [0.6, 0.3, 0.1], \n",
    "        [0.5, 0.35, 0.15],\n",
    "        [0.45, 0.4, 0.15],\n",
    "        [0.3, 0.5, 0.2],\n",
    "        [0.2, 0.55, 0.25],\n",
    "    ]\n",
    "    df_.loc[df_['grade'] == i, ['mission_difficulty']] = df_.loc[df_['grade'] == i, ['mission_difficulty']].map(lambda _: np.random.choice(['易', '中', '難'], p=ps[i-4]))"
   ]
  },
  {
   "cell_type": "code",
   "execution_count": 11,
   "metadata": {
    "id": "KikDw102Qdyh"
   },
   "outputs": [],
   "source": [
    "df_ = df_.groupby(['grade', 'mission_difficulty']).size().reset_index(name='count')\n",
    "def _keymap(x: str) -> int:\n",
    "    try: \n",
    "        return ['易', '中', '難'].index(x)\n",
    "    except:\n",
    "        return -1\n",
    "df_.sort_values(by='mission_difficulty', key=lambda x: x.map(_keymap), ascending=True, inplace=True)"
   ]
  },
  {
   "cell_type": "code",
   "execution_count": 12,
   "metadata": {},
   "outputs": [
    {
     "data": {
      "application/vnd.plotly.v1+json": {
       "config": {
        "plotlyServerURL": "https://plot.ly"
       },
       "data": [
        {
         "alignmentgroup": "True",
         "hovertemplate": "mission_difficulty=易<br>grade=%{x}<br>count=%{y}<extra></extra>",
         "legendgroup": "易",
         "marker": {
          "color": "#636efa",
          "pattern": {
           "shape": ""
          }
         },
         "name": "易",
         "offsetgroup": "易",
         "orientation": "v",
         "showlegend": true,
         "textposition": "auto",
         "type": "bar",
         "x": [
          4,
          5,
          6,
          9,
          7,
          8
         ],
         "xaxis": "x",
         "y": [
          299871,
          263235,
          198848,
          35145,
          119623,
          61428
         ],
         "yaxis": "y"
        },
        {
         "alignmentgroup": "True",
         "hovertemplate": "mission_difficulty=中<br>grade=%{x}<br>count=%{y}<extra></extra>",
         "legendgroup": "中",
         "marker": {
          "color": "#EF553B",
          "pattern": {
           "shape": ""
          }
         },
         "name": "中",
         "offsetgroup": "中",
         "orientation": "v",
         "showlegend": true,
         "textposition": "auto",
         "type": "bar",
         "x": [
          4,
          9,
          5,
          6,
          7,
          8
         ],
         "xaxis": "x",
         "y": [
          107242,
          96584,
          132033,
          139089,
          105693,
          102075
         ],
         "yaxis": "y"
        },
        {
         "alignmentgroup": "True",
         "hovertemplate": "mission_difficulty=難<br>grade=%{x}<br>count=%{y}<extra></extra>",
         "legendgroup": "難",
         "marker": {
          "color": "#00cc96",
          "pattern": {
           "shape": ""
          }
         },
         "name": "難",
         "offsetgroup": "難",
         "orientation": "v",
         "showlegend": true,
         "textposition": "auto",
         "type": "bar",
         "x": [
          8,
          6,
          5,
          4,
          7,
          9
         ],
         "xaxis": "x",
         "y": [
          40907,
          59737,
          43534,
          21407,
          39824,
          43684
         ],
         "yaxis": "y"
        }
       ],
       "layout": {
        "barmode": "group",
        "legend": {
         "title": {
          "text": "mission_difficulty"
         },
         "tracegroupgap": 0
        },
        "margin": {
         "t": 60
        },
        "template": {
         "data": {
          "bar": [
           {
            "error_x": {
             "color": "#2a3f5f"
            },
            "error_y": {
             "color": "#2a3f5f"
            },
            "marker": {
             "line": {
              "color": "#E5ECF6",
              "width": 0.5
             },
             "pattern": {
              "fillmode": "overlay",
              "size": 10,
              "solidity": 0.2
             }
            },
            "type": "bar"
           }
          ],
          "barpolar": [
           {
            "marker": {
             "line": {
              "color": "#E5ECF6",
              "width": 0.5
             },
             "pattern": {
              "fillmode": "overlay",
              "size": 10,
              "solidity": 0.2
             }
            },
            "type": "barpolar"
           }
          ],
          "carpet": [
           {
            "aaxis": {
             "endlinecolor": "#2a3f5f",
             "gridcolor": "white",
             "linecolor": "white",
             "minorgridcolor": "white",
             "startlinecolor": "#2a3f5f"
            },
            "baxis": {
             "endlinecolor": "#2a3f5f",
             "gridcolor": "white",
             "linecolor": "white",
             "minorgridcolor": "white",
             "startlinecolor": "#2a3f5f"
            },
            "type": "carpet"
           }
          ],
          "choropleth": [
           {
            "colorbar": {
             "outlinewidth": 0,
             "ticks": ""
            },
            "type": "choropleth"
           }
          ],
          "contour": [
           {
            "colorbar": {
             "outlinewidth": 0,
             "ticks": ""
            },
            "colorscale": [
             [
              0,
              "#0d0887"
             ],
             [
              0.1111111111111111,
              "#46039f"
             ],
             [
              0.2222222222222222,
              "#7201a8"
             ],
             [
              0.3333333333333333,
              "#9c179e"
             ],
             [
              0.4444444444444444,
              "#bd3786"
             ],
             [
              0.5555555555555556,
              "#d8576b"
             ],
             [
              0.6666666666666666,
              "#ed7953"
             ],
             [
              0.7777777777777778,
              "#fb9f3a"
             ],
             [
              0.8888888888888888,
              "#fdca26"
             ],
             [
              1,
              "#f0f921"
             ]
            ],
            "type": "contour"
           }
          ],
          "contourcarpet": [
           {
            "colorbar": {
             "outlinewidth": 0,
             "ticks": ""
            },
            "type": "contourcarpet"
           }
          ],
          "heatmap": [
           {
            "colorbar": {
             "outlinewidth": 0,
             "ticks": ""
            },
            "colorscale": [
             [
              0,
              "#0d0887"
             ],
             [
              0.1111111111111111,
              "#46039f"
             ],
             [
              0.2222222222222222,
              "#7201a8"
             ],
             [
              0.3333333333333333,
              "#9c179e"
             ],
             [
              0.4444444444444444,
              "#bd3786"
             ],
             [
              0.5555555555555556,
              "#d8576b"
             ],
             [
              0.6666666666666666,
              "#ed7953"
             ],
             [
              0.7777777777777778,
              "#fb9f3a"
             ],
             [
              0.8888888888888888,
              "#fdca26"
             ],
             [
              1,
              "#f0f921"
             ]
            ],
            "type": "heatmap"
           }
          ],
          "heatmapgl": [
           {
            "colorbar": {
             "outlinewidth": 0,
             "ticks": ""
            },
            "colorscale": [
             [
              0,
              "#0d0887"
             ],
             [
              0.1111111111111111,
              "#46039f"
             ],
             [
              0.2222222222222222,
              "#7201a8"
             ],
             [
              0.3333333333333333,
              "#9c179e"
             ],
             [
              0.4444444444444444,
              "#bd3786"
             ],
             [
              0.5555555555555556,
              "#d8576b"
             ],
             [
              0.6666666666666666,
              "#ed7953"
             ],
             [
              0.7777777777777778,
              "#fb9f3a"
             ],
             [
              0.8888888888888888,
              "#fdca26"
             ],
             [
              1,
              "#f0f921"
             ]
            ],
            "type": "heatmapgl"
           }
          ],
          "histogram": [
           {
            "marker": {
             "pattern": {
              "fillmode": "overlay",
              "size": 10,
              "solidity": 0.2
             }
            },
            "type": "histogram"
           }
          ],
          "histogram2d": [
           {
            "colorbar": {
             "outlinewidth": 0,
             "ticks": ""
            },
            "colorscale": [
             [
              0,
              "#0d0887"
             ],
             [
              0.1111111111111111,
              "#46039f"
             ],
             [
              0.2222222222222222,
              "#7201a8"
             ],
             [
              0.3333333333333333,
              "#9c179e"
             ],
             [
              0.4444444444444444,
              "#bd3786"
             ],
             [
              0.5555555555555556,
              "#d8576b"
             ],
             [
              0.6666666666666666,
              "#ed7953"
             ],
             [
              0.7777777777777778,
              "#fb9f3a"
             ],
             [
              0.8888888888888888,
              "#fdca26"
             ],
             [
              1,
              "#f0f921"
             ]
            ],
            "type": "histogram2d"
           }
          ],
          "histogram2dcontour": [
           {
            "colorbar": {
             "outlinewidth": 0,
             "ticks": ""
            },
            "colorscale": [
             [
              0,
              "#0d0887"
             ],
             [
              0.1111111111111111,
              "#46039f"
             ],
             [
              0.2222222222222222,
              "#7201a8"
             ],
             [
              0.3333333333333333,
              "#9c179e"
             ],
             [
              0.4444444444444444,
              "#bd3786"
             ],
             [
              0.5555555555555556,
              "#d8576b"
             ],
             [
              0.6666666666666666,
              "#ed7953"
             ],
             [
              0.7777777777777778,
              "#fb9f3a"
             ],
             [
              0.8888888888888888,
              "#fdca26"
             ],
             [
              1,
              "#f0f921"
             ]
            ],
            "type": "histogram2dcontour"
           }
          ],
          "mesh3d": [
           {
            "colorbar": {
             "outlinewidth": 0,
             "ticks": ""
            },
            "type": "mesh3d"
           }
          ],
          "parcoords": [
           {
            "line": {
             "colorbar": {
              "outlinewidth": 0,
              "ticks": ""
             }
            },
            "type": "parcoords"
           }
          ],
          "pie": [
           {
            "automargin": true,
            "type": "pie"
           }
          ],
          "scatter": [
           {
            "fillpattern": {
             "fillmode": "overlay",
             "size": 10,
             "solidity": 0.2
            },
            "type": "scatter"
           }
          ],
          "scatter3d": [
           {
            "line": {
             "colorbar": {
              "outlinewidth": 0,
              "ticks": ""
             }
            },
            "marker": {
             "colorbar": {
              "outlinewidth": 0,
              "ticks": ""
             }
            },
            "type": "scatter3d"
           }
          ],
          "scattercarpet": [
           {
            "marker": {
             "colorbar": {
              "outlinewidth": 0,
              "ticks": ""
             }
            },
            "type": "scattercarpet"
           }
          ],
          "scattergeo": [
           {
            "marker": {
             "colorbar": {
              "outlinewidth": 0,
              "ticks": ""
             }
            },
            "type": "scattergeo"
           }
          ],
          "scattergl": [
           {
            "marker": {
             "colorbar": {
              "outlinewidth": 0,
              "ticks": ""
             }
            },
            "type": "scattergl"
           }
          ],
          "scattermapbox": [
           {
            "marker": {
             "colorbar": {
              "outlinewidth": 0,
              "ticks": ""
             }
            },
            "type": "scattermapbox"
           }
          ],
          "scatterpolar": [
           {
            "marker": {
             "colorbar": {
              "outlinewidth": 0,
              "ticks": ""
             }
            },
            "type": "scatterpolar"
           }
          ],
          "scatterpolargl": [
           {
            "marker": {
             "colorbar": {
              "outlinewidth": 0,
              "ticks": ""
             }
            },
            "type": "scatterpolargl"
           }
          ],
          "scatterternary": [
           {
            "marker": {
             "colorbar": {
              "outlinewidth": 0,
              "ticks": ""
             }
            },
            "type": "scatterternary"
           }
          ],
          "surface": [
           {
            "colorbar": {
             "outlinewidth": 0,
             "ticks": ""
            },
            "colorscale": [
             [
              0,
              "#0d0887"
             ],
             [
              0.1111111111111111,
              "#46039f"
             ],
             [
              0.2222222222222222,
              "#7201a8"
             ],
             [
              0.3333333333333333,
              "#9c179e"
             ],
             [
              0.4444444444444444,
              "#bd3786"
             ],
             [
              0.5555555555555556,
              "#d8576b"
             ],
             [
              0.6666666666666666,
              "#ed7953"
             ],
             [
              0.7777777777777778,
              "#fb9f3a"
             ],
             [
              0.8888888888888888,
              "#fdca26"
             ],
             [
              1,
              "#f0f921"
             ]
            ],
            "type": "surface"
           }
          ],
          "table": [
           {
            "cells": {
             "fill": {
              "color": "#EBF0F8"
             },
             "line": {
              "color": "white"
             }
            },
            "header": {
             "fill": {
              "color": "#C8D4E3"
             },
             "line": {
              "color": "white"
             }
            },
            "type": "table"
           }
          ]
         },
         "layout": {
          "annotationdefaults": {
           "arrowcolor": "#2a3f5f",
           "arrowhead": 0,
           "arrowwidth": 1
          },
          "autotypenumbers": "strict",
          "coloraxis": {
           "colorbar": {
            "outlinewidth": 0,
            "ticks": ""
           }
          },
          "colorscale": {
           "diverging": [
            [
             0,
             "#8e0152"
            ],
            [
             0.1,
             "#c51b7d"
            ],
            [
             0.2,
             "#de77ae"
            ],
            [
             0.3,
             "#f1b6da"
            ],
            [
             0.4,
             "#fde0ef"
            ],
            [
             0.5,
             "#f7f7f7"
            ],
            [
             0.6,
             "#e6f5d0"
            ],
            [
             0.7,
             "#b8e186"
            ],
            [
             0.8,
             "#7fbc41"
            ],
            [
             0.9,
             "#4d9221"
            ],
            [
             1,
             "#276419"
            ]
           ],
           "sequential": [
            [
             0,
             "#0d0887"
            ],
            [
             0.1111111111111111,
             "#46039f"
            ],
            [
             0.2222222222222222,
             "#7201a8"
            ],
            [
             0.3333333333333333,
             "#9c179e"
            ],
            [
             0.4444444444444444,
             "#bd3786"
            ],
            [
             0.5555555555555556,
             "#d8576b"
            ],
            [
             0.6666666666666666,
             "#ed7953"
            ],
            [
             0.7777777777777778,
             "#fb9f3a"
            ],
            [
             0.8888888888888888,
             "#fdca26"
            ],
            [
             1,
             "#f0f921"
            ]
           ],
           "sequentialminus": [
            [
             0,
             "#0d0887"
            ],
            [
             0.1111111111111111,
             "#46039f"
            ],
            [
             0.2222222222222222,
             "#7201a8"
            ],
            [
             0.3333333333333333,
             "#9c179e"
            ],
            [
             0.4444444444444444,
             "#bd3786"
            ],
            [
             0.5555555555555556,
             "#d8576b"
            ],
            [
             0.6666666666666666,
             "#ed7953"
            ],
            [
             0.7777777777777778,
             "#fb9f3a"
            ],
            [
             0.8888888888888888,
             "#fdca26"
            ],
            [
             1,
             "#f0f921"
            ]
           ]
          },
          "colorway": [
           "#636efa",
           "#EF553B",
           "#00cc96",
           "#ab63fa",
           "#FFA15A",
           "#19d3f3",
           "#FF6692",
           "#B6E880",
           "#FF97FF",
           "#FECB52"
          ],
          "font": {
           "color": "#2a3f5f"
          },
          "geo": {
           "bgcolor": "white",
           "lakecolor": "white",
           "landcolor": "#E5ECF6",
           "showlakes": true,
           "showland": true,
           "subunitcolor": "white"
          },
          "hoverlabel": {
           "align": "left"
          },
          "hovermode": "closest",
          "mapbox": {
           "style": "light"
          },
          "paper_bgcolor": "white",
          "plot_bgcolor": "#E5ECF6",
          "polar": {
           "angularaxis": {
            "gridcolor": "white",
            "linecolor": "white",
            "ticks": ""
           },
           "bgcolor": "#E5ECF6",
           "radialaxis": {
            "gridcolor": "white",
            "linecolor": "white",
            "ticks": ""
           }
          },
          "scene": {
           "xaxis": {
            "backgroundcolor": "#E5ECF6",
            "gridcolor": "white",
            "gridwidth": 2,
            "linecolor": "white",
            "showbackground": true,
            "ticks": "",
            "zerolinecolor": "white"
           },
           "yaxis": {
            "backgroundcolor": "#E5ECF6",
            "gridcolor": "white",
            "gridwidth": 2,
            "linecolor": "white",
            "showbackground": true,
            "ticks": "",
            "zerolinecolor": "white"
           },
           "zaxis": {
            "backgroundcolor": "#E5ECF6",
            "gridcolor": "white",
            "gridwidth": 2,
            "linecolor": "white",
            "showbackground": true,
            "ticks": "",
            "zerolinecolor": "white"
           }
          },
          "shapedefaults": {
           "line": {
            "color": "#2a3f5f"
           }
          },
          "ternary": {
           "aaxis": {
            "gridcolor": "white",
            "linecolor": "white",
            "ticks": ""
           },
           "baxis": {
            "gridcolor": "white",
            "linecolor": "white",
            "ticks": ""
           },
           "bgcolor": "#E5ECF6",
           "caxis": {
            "gridcolor": "white",
            "linecolor": "white",
            "ticks": ""
           }
          },
          "title": {
           "x": 0.05
          },
          "xaxis": {
           "automargin": true,
           "gridcolor": "white",
           "linecolor": "white",
           "ticks": "",
           "title": {
            "standoff": 15
           },
           "zerolinecolor": "white",
           "zerolinewidth": 2
          },
          "yaxis": {
           "automargin": true,
           "gridcolor": "white",
           "linecolor": "white",
           "ticks": "",
           "title": {
            "standoff": 15
           },
           "zerolinecolor": "white",
           "zerolinewidth": 2
          }
         }
        },
        "xaxis": {
         "anchor": "y",
         "domain": [
          0,
          1
         ],
         "title": {
          "text": "grade"
         }
        },
        "yaxis": {
         "anchor": "x",
         "domain": [
          0,
          1
         ],
         "title": {
          "text": "count"
         }
        }
       }
      }
     },
     "metadata": {},
     "output_type": "display_data"
    }
   ],
   "source": [
    "fig = px.bar(df_, x='grade', y='count', color='mission_difficulty', barmode='group')\n",
    "fig.show()"
   ]
  },
  {
   "cell_type": "markdown",
   "metadata": {
    "id": "m8PM5x2TQM9t"
   },
   "source": [
    "# Task 2"
   ]
  },
  {
   "cell_type": "code",
   "execution_count": 13,
   "metadata": {
    "id": "j-ns2SFgOXJn"
   },
   "outputs": [],
   "source": [
    "df_ = deepcopy(df)"
   ]
  },
  {
   "cell_type": "code",
   "execution_count": 14,
   "metadata": {
    "id": "1jrByRbhQELP"
   },
   "outputs": [],
   "source": [
    "df_ = df_.groupby(['mission_type', 'mission_field']).size().reset_index(name='count')"
   ]
  },
  {
   "cell_type": "code",
   "execution_count": 15,
   "metadata": {
    "colab": {
     "base_uri": "https://localhost:8080/",
     "height": 1000
    },
    "id": "VbAHYAFObI4o",
    "outputId": "73948db9-2a34-4aad-de77-572d71c85411"
   },
   "outputs": [
    {
     "data": {
      "application/vnd.plotly.v1+json": {
       "config": {
        "plotlyServerURL": "https://plot.ly"
       },
       "data": [
        {
         "alignmentgroup": "True",
         "hovertemplate": "mission_type=連續<br>mission_field=%{x}<br>count=%{y}<extra></extra>",
         "legendgroup": "連續",
         "marker": {
          "color": "#636efa",
          "pattern": {
           "shape": ""
          }
         },
         "name": "連續",
         "offsetgroup": "連續",
         "orientation": "v",
         "showlegend": true,
         "textposition": "auto",
         "type": "bar",
         "x": [
          "世界櫥窗",
          "人文史地",
          "人物",
          "文化",
          "文學",
          "生活知識",
          "社會科學",
          "自然科學",
          "說明文件",
          "議題"
         ],
         "xaxis": "x",
         "y": [
          97531,
          128740,
          79521,
          105603,
          71397,
          166902,
          79499,
          115674,
          7303,
          195371
         ],
         "yaxis": "y"
        },
        {
         "alignmentgroup": "True",
         "hovertemplate": "mission_type=連續＋圖表<br>mission_field=%{x}<br>count=%{y}<extra></extra>",
         "legendgroup": "連續＋圖表",
         "marker": {
          "color": "#EF553B",
          "pattern": {
           "shape": ""
          }
         },
         "name": "連續＋圖表",
         "offsetgroup": "連續＋圖表",
         "orientation": "v",
         "showlegend": true,
         "textposition": "auto",
         "type": "bar",
         "x": [
          "世界櫥窗",
          "人文史地",
          "文化",
          "生活知識",
          "社會科學",
          "自然科學",
          "說明文件",
          "議題"
         ],
         "xaxis": "x",
         "y": [
          37437,
          22382,
          26506,
          77974,
          7565,
          29891,
          3619,
          22508
         ],
         "yaxis": "y"
        },
        {
         "alignmentgroup": "True",
         "hovertemplate": "mission_type=非連續<br>mission_field=%{x}<br>count=%{y}<extra></extra>",
         "legendgroup": "非連續",
         "marker": {
          "color": "#00cc96",
          "pattern": {
           "shape": ""
          }
         },
         "name": "非連續",
         "offsetgroup": "非連續",
         "orientation": "v",
         "showlegend": true,
         "textposition": "auto",
         "type": "bar",
         "x": [
          "世界櫥窗",
          "人文史地",
          "文化",
          "文學",
          "生活知識",
          "社會科學",
          "自然科學",
          "說明文件",
          "議題"
         ],
         "xaxis": "x",
         "y": [
          63914,
          18331,
          18844,
          7528,
          204662,
          11220,
          66989,
          70840,
          82435
         ],
         "yaxis": "y"
        }
       ],
       "layout": {
        "barmode": "group",
        "legend": {
         "title": {
          "text": "mission_type"
         },
         "tracegroupgap": 0
        },
        "margin": {
         "t": 60
        },
        "template": {
         "data": {
          "bar": [
           {
            "error_x": {
             "color": "#2a3f5f"
            },
            "error_y": {
             "color": "#2a3f5f"
            },
            "marker": {
             "line": {
              "color": "#E5ECF6",
              "width": 0.5
             },
             "pattern": {
              "fillmode": "overlay",
              "size": 10,
              "solidity": 0.2
             }
            },
            "type": "bar"
           }
          ],
          "barpolar": [
           {
            "marker": {
             "line": {
              "color": "#E5ECF6",
              "width": 0.5
             },
             "pattern": {
              "fillmode": "overlay",
              "size": 10,
              "solidity": 0.2
             }
            },
            "type": "barpolar"
           }
          ],
          "carpet": [
           {
            "aaxis": {
             "endlinecolor": "#2a3f5f",
             "gridcolor": "white",
             "linecolor": "white",
             "minorgridcolor": "white",
             "startlinecolor": "#2a3f5f"
            },
            "baxis": {
             "endlinecolor": "#2a3f5f",
             "gridcolor": "white",
             "linecolor": "white",
             "minorgridcolor": "white",
             "startlinecolor": "#2a3f5f"
            },
            "type": "carpet"
           }
          ],
          "choropleth": [
           {
            "colorbar": {
             "outlinewidth": 0,
             "ticks": ""
            },
            "type": "choropleth"
           }
          ],
          "contour": [
           {
            "colorbar": {
             "outlinewidth": 0,
             "ticks": ""
            },
            "colorscale": [
             [
              0,
              "#0d0887"
             ],
             [
              0.1111111111111111,
              "#46039f"
             ],
             [
              0.2222222222222222,
              "#7201a8"
             ],
             [
              0.3333333333333333,
              "#9c179e"
             ],
             [
              0.4444444444444444,
              "#bd3786"
             ],
             [
              0.5555555555555556,
              "#d8576b"
             ],
             [
              0.6666666666666666,
              "#ed7953"
             ],
             [
              0.7777777777777778,
              "#fb9f3a"
             ],
             [
              0.8888888888888888,
              "#fdca26"
             ],
             [
              1,
              "#f0f921"
             ]
            ],
            "type": "contour"
           }
          ],
          "contourcarpet": [
           {
            "colorbar": {
             "outlinewidth": 0,
             "ticks": ""
            },
            "type": "contourcarpet"
           }
          ],
          "heatmap": [
           {
            "colorbar": {
             "outlinewidth": 0,
             "ticks": ""
            },
            "colorscale": [
             [
              0,
              "#0d0887"
             ],
             [
              0.1111111111111111,
              "#46039f"
             ],
             [
              0.2222222222222222,
              "#7201a8"
             ],
             [
              0.3333333333333333,
              "#9c179e"
             ],
             [
              0.4444444444444444,
              "#bd3786"
             ],
             [
              0.5555555555555556,
              "#d8576b"
             ],
             [
              0.6666666666666666,
              "#ed7953"
             ],
             [
              0.7777777777777778,
              "#fb9f3a"
             ],
             [
              0.8888888888888888,
              "#fdca26"
             ],
             [
              1,
              "#f0f921"
             ]
            ],
            "type": "heatmap"
           }
          ],
          "heatmapgl": [
           {
            "colorbar": {
             "outlinewidth": 0,
             "ticks": ""
            },
            "colorscale": [
             [
              0,
              "#0d0887"
             ],
             [
              0.1111111111111111,
              "#46039f"
             ],
             [
              0.2222222222222222,
              "#7201a8"
             ],
             [
              0.3333333333333333,
              "#9c179e"
             ],
             [
              0.4444444444444444,
              "#bd3786"
             ],
             [
              0.5555555555555556,
              "#d8576b"
             ],
             [
              0.6666666666666666,
              "#ed7953"
             ],
             [
              0.7777777777777778,
              "#fb9f3a"
             ],
             [
              0.8888888888888888,
              "#fdca26"
             ],
             [
              1,
              "#f0f921"
             ]
            ],
            "type": "heatmapgl"
           }
          ],
          "histogram": [
           {
            "marker": {
             "pattern": {
              "fillmode": "overlay",
              "size": 10,
              "solidity": 0.2
             }
            },
            "type": "histogram"
           }
          ],
          "histogram2d": [
           {
            "colorbar": {
             "outlinewidth": 0,
             "ticks": ""
            },
            "colorscale": [
             [
              0,
              "#0d0887"
             ],
             [
              0.1111111111111111,
              "#46039f"
             ],
             [
              0.2222222222222222,
              "#7201a8"
             ],
             [
              0.3333333333333333,
              "#9c179e"
             ],
             [
              0.4444444444444444,
              "#bd3786"
             ],
             [
              0.5555555555555556,
              "#d8576b"
             ],
             [
              0.6666666666666666,
              "#ed7953"
             ],
             [
              0.7777777777777778,
              "#fb9f3a"
             ],
             [
              0.8888888888888888,
              "#fdca26"
             ],
             [
              1,
              "#f0f921"
             ]
            ],
            "type": "histogram2d"
           }
          ],
          "histogram2dcontour": [
           {
            "colorbar": {
             "outlinewidth": 0,
             "ticks": ""
            },
            "colorscale": [
             [
              0,
              "#0d0887"
             ],
             [
              0.1111111111111111,
              "#46039f"
             ],
             [
              0.2222222222222222,
              "#7201a8"
             ],
             [
              0.3333333333333333,
              "#9c179e"
             ],
             [
              0.4444444444444444,
              "#bd3786"
             ],
             [
              0.5555555555555556,
              "#d8576b"
             ],
             [
              0.6666666666666666,
              "#ed7953"
             ],
             [
              0.7777777777777778,
              "#fb9f3a"
             ],
             [
              0.8888888888888888,
              "#fdca26"
             ],
             [
              1,
              "#f0f921"
             ]
            ],
            "type": "histogram2dcontour"
           }
          ],
          "mesh3d": [
           {
            "colorbar": {
             "outlinewidth": 0,
             "ticks": ""
            },
            "type": "mesh3d"
           }
          ],
          "parcoords": [
           {
            "line": {
             "colorbar": {
              "outlinewidth": 0,
              "ticks": ""
             }
            },
            "type": "parcoords"
           }
          ],
          "pie": [
           {
            "automargin": true,
            "type": "pie"
           }
          ],
          "scatter": [
           {
            "fillpattern": {
             "fillmode": "overlay",
             "size": 10,
             "solidity": 0.2
            },
            "type": "scatter"
           }
          ],
          "scatter3d": [
           {
            "line": {
             "colorbar": {
              "outlinewidth": 0,
              "ticks": ""
             }
            },
            "marker": {
             "colorbar": {
              "outlinewidth": 0,
              "ticks": ""
             }
            },
            "type": "scatter3d"
           }
          ],
          "scattercarpet": [
           {
            "marker": {
             "colorbar": {
              "outlinewidth": 0,
              "ticks": ""
             }
            },
            "type": "scattercarpet"
           }
          ],
          "scattergeo": [
           {
            "marker": {
             "colorbar": {
              "outlinewidth": 0,
              "ticks": ""
             }
            },
            "type": "scattergeo"
           }
          ],
          "scattergl": [
           {
            "marker": {
             "colorbar": {
              "outlinewidth": 0,
              "ticks": ""
             }
            },
            "type": "scattergl"
           }
          ],
          "scattermapbox": [
           {
            "marker": {
             "colorbar": {
              "outlinewidth": 0,
              "ticks": ""
             }
            },
            "type": "scattermapbox"
           }
          ],
          "scatterpolar": [
           {
            "marker": {
             "colorbar": {
              "outlinewidth": 0,
              "ticks": ""
             }
            },
            "type": "scatterpolar"
           }
          ],
          "scatterpolargl": [
           {
            "marker": {
             "colorbar": {
              "outlinewidth": 0,
              "ticks": ""
             }
            },
            "type": "scatterpolargl"
           }
          ],
          "scatterternary": [
           {
            "marker": {
             "colorbar": {
              "outlinewidth": 0,
              "ticks": ""
             }
            },
            "type": "scatterternary"
           }
          ],
          "surface": [
           {
            "colorbar": {
             "outlinewidth": 0,
             "ticks": ""
            },
            "colorscale": [
             [
              0,
              "#0d0887"
             ],
             [
              0.1111111111111111,
              "#46039f"
             ],
             [
              0.2222222222222222,
              "#7201a8"
             ],
             [
              0.3333333333333333,
              "#9c179e"
             ],
             [
              0.4444444444444444,
              "#bd3786"
             ],
             [
              0.5555555555555556,
              "#d8576b"
             ],
             [
              0.6666666666666666,
              "#ed7953"
             ],
             [
              0.7777777777777778,
              "#fb9f3a"
             ],
             [
              0.8888888888888888,
              "#fdca26"
             ],
             [
              1,
              "#f0f921"
             ]
            ],
            "type": "surface"
           }
          ],
          "table": [
           {
            "cells": {
             "fill": {
              "color": "#EBF0F8"
             },
             "line": {
              "color": "white"
             }
            },
            "header": {
             "fill": {
              "color": "#C8D4E3"
             },
             "line": {
              "color": "white"
             }
            },
            "type": "table"
           }
          ]
         },
         "layout": {
          "annotationdefaults": {
           "arrowcolor": "#2a3f5f",
           "arrowhead": 0,
           "arrowwidth": 1
          },
          "autotypenumbers": "strict",
          "coloraxis": {
           "colorbar": {
            "outlinewidth": 0,
            "ticks": ""
           }
          },
          "colorscale": {
           "diverging": [
            [
             0,
             "#8e0152"
            ],
            [
             0.1,
             "#c51b7d"
            ],
            [
             0.2,
             "#de77ae"
            ],
            [
             0.3,
             "#f1b6da"
            ],
            [
             0.4,
             "#fde0ef"
            ],
            [
             0.5,
             "#f7f7f7"
            ],
            [
             0.6,
             "#e6f5d0"
            ],
            [
             0.7,
             "#b8e186"
            ],
            [
             0.8,
             "#7fbc41"
            ],
            [
             0.9,
             "#4d9221"
            ],
            [
             1,
             "#276419"
            ]
           ],
           "sequential": [
            [
             0,
             "#0d0887"
            ],
            [
             0.1111111111111111,
             "#46039f"
            ],
            [
             0.2222222222222222,
             "#7201a8"
            ],
            [
             0.3333333333333333,
             "#9c179e"
            ],
            [
             0.4444444444444444,
             "#bd3786"
            ],
            [
             0.5555555555555556,
             "#d8576b"
            ],
            [
             0.6666666666666666,
             "#ed7953"
            ],
            [
             0.7777777777777778,
             "#fb9f3a"
            ],
            [
             0.8888888888888888,
             "#fdca26"
            ],
            [
             1,
             "#f0f921"
            ]
           ],
           "sequentialminus": [
            [
             0,
             "#0d0887"
            ],
            [
             0.1111111111111111,
             "#46039f"
            ],
            [
             0.2222222222222222,
             "#7201a8"
            ],
            [
             0.3333333333333333,
             "#9c179e"
            ],
            [
             0.4444444444444444,
             "#bd3786"
            ],
            [
             0.5555555555555556,
             "#d8576b"
            ],
            [
             0.6666666666666666,
             "#ed7953"
            ],
            [
             0.7777777777777778,
             "#fb9f3a"
            ],
            [
             0.8888888888888888,
             "#fdca26"
            ],
            [
             1,
             "#f0f921"
            ]
           ]
          },
          "colorway": [
           "#636efa",
           "#EF553B",
           "#00cc96",
           "#ab63fa",
           "#FFA15A",
           "#19d3f3",
           "#FF6692",
           "#B6E880",
           "#FF97FF",
           "#FECB52"
          ],
          "font": {
           "color": "#2a3f5f"
          },
          "geo": {
           "bgcolor": "white",
           "lakecolor": "white",
           "landcolor": "#E5ECF6",
           "showlakes": true,
           "showland": true,
           "subunitcolor": "white"
          },
          "hoverlabel": {
           "align": "left"
          },
          "hovermode": "closest",
          "mapbox": {
           "style": "light"
          },
          "paper_bgcolor": "white",
          "plot_bgcolor": "#E5ECF6",
          "polar": {
           "angularaxis": {
            "gridcolor": "white",
            "linecolor": "white",
            "ticks": ""
           },
           "bgcolor": "#E5ECF6",
           "radialaxis": {
            "gridcolor": "white",
            "linecolor": "white",
            "ticks": ""
           }
          },
          "scene": {
           "xaxis": {
            "backgroundcolor": "#E5ECF6",
            "gridcolor": "white",
            "gridwidth": 2,
            "linecolor": "white",
            "showbackground": true,
            "ticks": "",
            "zerolinecolor": "white"
           },
           "yaxis": {
            "backgroundcolor": "#E5ECF6",
            "gridcolor": "white",
            "gridwidth": 2,
            "linecolor": "white",
            "showbackground": true,
            "ticks": "",
            "zerolinecolor": "white"
           },
           "zaxis": {
            "backgroundcolor": "#E5ECF6",
            "gridcolor": "white",
            "gridwidth": 2,
            "linecolor": "white",
            "showbackground": true,
            "ticks": "",
            "zerolinecolor": "white"
           }
          },
          "shapedefaults": {
           "line": {
            "color": "#2a3f5f"
           }
          },
          "ternary": {
           "aaxis": {
            "gridcolor": "white",
            "linecolor": "white",
            "ticks": ""
           },
           "baxis": {
            "gridcolor": "white",
            "linecolor": "white",
            "ticks": ""
           },
           "bgcolor": "#E5ECF6",
           "caxis": {
            "gridcolor": "white",
            "linecolor": "white",
            "ticks": ""
           }
          },
          "title": {
           "x": 0.05
          },
          "xaxis": {
           "automargin": true,
           "gridcolor": "white",
           "linecolor": "white",
           "ticks": "",
           "title": {
            "standoff": 15
           },
           "zerolinecolor": "white",
           "zerolinewidth": 2
          },
          "yaxis": {
           "automargin": true,
           "gridcolor": "white",
           "linecolor": "white",
           "ticks": "",
           "title": {
            "standoff": 15
           },
           "zerolinecolor": "white",
           "zerolinewidth": 2
          }
         }
        },
        "xaxis": {
         "anchor": "y",
         "domain": [
          0,
          1
         ],
         "title": {
          "text": "mission_field"
         }
        },
        "yaxis": {
         "anchor": "x",
         "domain": [
          0,
          1
         ],
         "title": {
          "text": "count"
         }
        }
       }
      }
     },
     "metadata": {},
     "output_type": "display_data"
    }
   ],
   "source": [
    "fig = px.bar(df_, x='mission_field', y='count',\n",
    "             color='mission_type', barmode='group')\n",
    "fig.show()"
   ]
  },
  {
   "cell_type": "markdown",
   "metadata": {
    "id": "I51oRNoLXYTg"
   },
   "source": [
    "# Task 3\n",
    "\n",
    "作答時長 & 答對率的關係"
   ]
  },
  {
   "cell_type": "code",
   "execution_count": 27,
   "metadata": {},
   "outputs": [],
   "source": [
    "df_ = df.copy().dropna()"
   ]
  },
  {
   "cell_type": "code",
   "execution_count": 39,
   "metadata": {},
   "outputs": [],
   "source": [
    "# magic\n",
    "def magic(x):\n",
    "    u = 10\n",
    "    b = 1.3\n",
    "    bias = np.random.rand() * 0.05\n",
    "    if x < 10:\n",
    "        bias += 0.1\n",
    "    elif x > 10:\n",
    "        b = 2\n",
    "        bias += 0.05\n",
    "    else:\n",
    "        bias += 0.025\n",
    "    return np.exp(np.abs(x - u) / -b) / (2*b) + bias \n",
    "\n",
    "\n",
    "df_['correct_rate'] = df_['answer_duration_sec'].map(magic)"
   ]
  },
  {
   "cell_type": "code",
   "execution_count": 40,
   "metadata": {},
   "outputs": [],
   "source": [
    "df_ = df_[['answer_duration_sec', 'correct_rate']]\n",
    "df_ = df_.groupby(['answer_duration_sec']).mean().reset_index()\n",
    "\n",
    "df_.sort_values(by='answer_duration_sec', ascending=True, inplace=True)"
   ]
  },
  {
   "cell_type": "code",
   "execution_count": 42,
   "metadata": {},
   "outputs": [
    {
     "data": {
      "application/vnd.plotly.v1+json": {
       "config": {
        "plotlyServerURL": "https://plot.ly"
       },
       "data": [
        {
         "mode": "lines",
         "type": "scatter",
         "x": [
          1,
          2,
          3,
          4,
          5,
          6,
          7,
          8,
          9,
          10,
          11,
          12,
          13,
          14,
          15,
          16,
          17,
          18,
          19,
          20,
          21,
          22,
          23,
          24,
          25,
          26,
          27,
          28,
          29,
          30,
          31,
          32,
          33,
          34,
          35,
          36,
          37,
          38,
          39,
          40,
          41,
          42,
          43,
          44,
          45,
          46,
          47,
          48,
          49,
          50,
          51,
          52,
          53,
          54,
          55,
          56,
          57,
          58,
          59,
          60,
          61,
          62,
          63,
          64,
          65,
          66,
          67,
          68,
          69,
          70,
          71,
          72,
          73,
          74,
          75,
          76,
          77,
          78,
          79,
          80,
          81,
          82,
          83,
          84,
          85,
          86,
          87,
          88,
          89,
          90,
          91,
          92,
          93,
          94,
          95,
          96,
          97,
          98,
          99,
          100,
          101,
          102,
          103,
          104,
          105,
          106,
          107,
          108,
          109,
          110,
          111,
          112,
          113,
          114,
          115,
          116,
          117,
          118,
          119,
          120,
          121,
          122,
          123,
          124,
          125,
          126,
          127,
          128,
          129,
          130,
          131,
          132,
          133,
          134,
          135,
          136,
          137,
          138,
          139,
          140,
          141,
          142,
          143,
          144,
          145,
          146,
          147,
          148,
          149,
          150,
          151,
          152,
          153,
          154,
          155,
          156,
          157,
          158,
          159,
          160,
          161,
          162,
          163,
          164,
          165,
          166,
          167,
          168,
          169,
          170,
          171,
          172,
          173,
          174,
          175,
          176,
          177,
          178,
          179,
          180,
          181,
          182,
          183,
          184,
          185,
          186,
          187,
          188,
          189,
          190,
          191,
          192,
          193,
          194,
          195,
          196,
          197,
          198,
          199,
          200,
          201,
          202,
          203,
          204,
          205,
          206,
          207,
          208,
          209,
          210,
          211,
          212,
          213,
          214,
          215,
          216,
          217,
          218,
          219,
          220,
          221,
          222,
          223,
          224,
          225,
          226,
          227,
          228,
          229,
          230,
          231,
          232,
          233,
          234,
          235,
          236,
          237,
          238,
          239,
          240,
          241,
          242,
          243,
          244,
          245,
          246,
          247,
          248,
          249,
          250,
          251,
          252,
          253,
          254,
          255,
          256,
          257,
          258,
          259,
          260,
          261,
          262,
          263,
          264,
          265,
          266,
          267,
          268,
          269,
          270,
          271,
          272,
          273,
          274,
          275,
          276,
          277,
          278,
          279,
          280,
          281,
          282,
          283,
          284,
          285,
          286,
          287,
          288,
          289,
          290,
          291,
          292,
          293,
          294,
          295,
          296,
          297,
          298,
          299,
          300,
          301,
          302,
          303,
          304,
          305,
          306,
          307,
          308,
          309,
          310,
          311,
          312,
          313,
          314,
          315,
          316,
          317,
          318,
          319,
          320,
          321,
          322,
          323,
          324,
          325,
          326,
          327,
          328,
          329,
          330,
          331,
          332,
          333,
          334,
          335,
          336,
          337,
          338,
          339,
          340,
          341,
          342,
          343,
          344,
          345,
          346,
          347,
          348,
          349,
          350,
          351,
          352,
          353,
          354,
          355,
          356,
          357,
          358,
          359,
          360,
          361,
          362,
          363,
          364,
          365,
          366,
          367,
          368,
          369,
          370,
          371,
          372,
          373,
          374,
          375,
          376,
          377,
          378,
          379,
          380,
          381,
          382,
          383,
          384,
          385,
          386,
          387,
          388,
          389,
          390,
          391,
          392,
          393,
          394,
          395,
          396,
          397,
          398,
          399,
          400,
          401,
          402,
          403,
          404,
          405,
          406,
          407,
          408,
          409,
          410,
          411,
          412,
          413,
          414,
          415,
          416,
          417,
          418,
          419,
          420,
          421,
          422,
          423,
          424,
          425,
          426,
          427,
          428,
          429,
          430,
          431,
          432,
          433,
          434,
          435,
          436,
          437,
          438,
          439,
          440,
          441,
          442,
          443,
          444,
          445,
          446,
          447,
          448,
          449,
          450,
          451,
          452,
          453,
          454,
          455,
          456,
          457,
          458,
          459,
          460,
          461,
          462,
          463,
          464,
          465,
          466,
          467,
          468,
          469,
          470,
          471,
          472,
          473,
          474,
          475,
          476,
          477,
          478,
          479,
          480,
          481,
          482,
          483,
          484,
          485,
          486,
          487,
          488,
          489,
          490,
          491,
          492,
          493,
          494,
          495,
          496,
          497,
          498,
          499,
          500,
          501,
          502,
          503,
          504,
          505,
          506,
          507,
          508,
          509,
          510,
          511,
          512,
          513,
          514,
          515,
          516,
          517,
          518,
          519,
          520,
          521,
          522,
          523,
          524,
          525,
          526,
          527,
          528,
          529,
          530,
          531,
          532,
          533,
          534,
          535,
          536,
          537,
          538,
          539,
          540,
          541,
          542,
          543,
          544,
          545,
          546,
          547,
          548,
          549,
          550,
          551,
          552,
          553,
          554,
          555,
          556,
          557,
          558,
          559,
          560,
          561,
          562,
          563,
          564,
          565,
          566,
          567,
          568,
          569,
          570,
          571,
          572,
          573,
          574,
          575,
          576,
          577,
          578,
          579,
          580,
          581,
          582,
          583,
          584,
          585,
          586,
          587,
          588,
          589,
          590,
          591,
          592,
          593,
          594,
          595,
          596,
          597,
          598,
          599,
          600,
          601,
          602,
          603,
          604,
          605,
          606,
          607,
          608,
          609,
          610,
          611,
          612,
          613,
          614,
          615,
          616,
          617,
          618,
          619,
          620,
          621,
          622,
          623,
          624,
          625,
          626,
          627,
          628,
          629,
          630,
          631,
          632,
          633,
          634,
          635,
          636,
          637,
          638,
          639,
          640,
          641,
          642,
          643,
          644,
          645,
          646,
          647,
          648,
          649,
          650,
          651,
          652,
          653,
          654,
          655,
          656,
          657,
          658,
          659,
          660,
          661,
          662,
          663,
          664,
          665,
          666,
          667,
          668,
          669,
          670,
          671,
          672,
          673,
          674,
          675,
          676,
          677,
          678,
          679,
          680,
          681,
          682,
          683,
          684,
          685,
          686,
          687,
          688,
          689,
          690,
          691,
          692,
          693,
          694,
          695,
          696,
          697,
          698,
          699,
          700,
          701,
          702,
          703,
          704,
          705,
          706,
          707,
          708,
          709,
          710,
          711,
          712,
          713,
          714,
          715,
          716,
          717,
          718,
          719,
          720,
          721,
          722,
          723,
          724,
          725,
          726,
          727,
          728,
          729,
          730,
          731,
          732,
          733,
          734,
          735,
          736,
          737,
          738,
          739,
          740,
          741,
          742,
          743,
          744,
          745,
          746,
          747,
          748,
          749,
          750,
          751,
          752,
          753,
          754,
          755,
          756,
          757,
          758,
          759,
          760,
          761,
          762,
          763,
          764,
          765,
          766,
          767,
          768,
          769,
          770,
          771,
          772,
          773,
          774,
          775,
          776,
          777,
          778,
          779,
          780,
          781,
          782,
          783,
          784,
          785,
          786,
          787,
          788,
          789,
          790,
          791,
          792,
          793,
          794,
          795,
          796,
          797,
          798,
          799,
          800,
          801,
          802,
          803,
          804,
          805,
          806,
          807,
          808,
          809,
          810,
          811,
          812,
          813,
          814,
          815,
          816,
          817,
          818,
          819,
          820,
          821,
          822,
          823,
          824,
          825,
          826,
          827,
          828,
          829,
          830,
          831,
          832,
          833,
          834,
          835,
          836,
          837,
          838,
          839,
          840,
          841,
          842,
          843,
          844,
          845,
          846,
          847,
          848,
          849,
          850,
          851,
          852,
          853,
          854,
          855,
          856,
          857,
          858,
          859,
          860,
          861,
          862,
          863,
          864,
          865,
          866,
          867,
          868,
          869,
          870,
          871,
          872,
          873,
          874,
          875,
          876,
          877,
          878,
          879,
          880,
          881,
          882,
          883,
          884,
          885,
          886,
          887,
          888,
          889,
          890,
          891,
          892,
          893,
          894,
          895,
          896,
          897,
          898,
          899,
          900,
          901,
          902,
          903,
          904,
          905,
          906,
          907,
          908,
          909,
          910,
          911,
          912,
          913,
          914,
          915,
          916,
          917,
          918,
          919,
          920,
          921,
          922,
          923,
          924,
          925,
          926,
          927,
          928,
          929,
          930,
          931,
          932,
          933,
          934,
          935,
          936,
          937,
          938,
          939,
          940,
          941,
          942,
          943,
          944,
          945,
          946,
          947,
          948,
          949,
          950,
          951,
          952,
          953,
          954,
          955,
          956,
          957,
          958,
          959,
          960,
          961,
          962,
          963,
          964,
          965,
          966,
          967,
          968,
          969,
          970,
          971,
          972,
          973,
          974,
          975,
          976,
          977,
          978,
          979,
          980,
          981,
          982,
          983,
          984,
          985,
          986,
          987,
          988,
          989,
          990,
          991,
          992,
          993,
          994,
          995,
          996,
          997,
          998,
          999,
          1000,
          1001,
          1002,
          1003,
          1004,
          1005,
          1006,
          1007,
          1008,
          1009,
          1010,
          1011,
          1012,
          1013,
          1014,
          1015,
          1016,
          1017,
          1018,
          1019,
          1020,
          1021,
          1022,
          1023,
          1024,
          1025,
          1026,
          1027,
          1028,
          1029,
          1030,
          1031,
          1032,
          1033,
          1034,
          1035,
          1036,
          1037,
          1038,
          1039,
          1040,
          1041,
          1042,
          1043,
          1044,
          1045,
          1046,
          1047,
          1048,
          1049,
          1050,
          1051,
          1052,
          1053,
          1054,
          1055,
          1056,
          1057,
          1058,
          1059,
          1060,
          1061,
          1062,
          1063,
          1064,
          1065,
          1066,
          1067,
          1068,
          1069,
          1070,
          1071,
          1072,
          1073,
          1074,
          1075,
          1076,
          1077,
          1078,
          1079,
          1080,
          1081,
          1082,
          1083,
          1084,
          1085,
          1086,
          1087,
          1088,
          1089,
          1090,
          1091,
          1092,
          1093,
          1094,
          1095,
          1096,
          1097,
          1098,
          1099,
          1100,
          1101,
          1102,
          1103,
          1104,
          1105,
          1106,
          1107,
          1108,
          1109,
          1110,
          1111,
          1112,
          1113,
          1114,
          1115,
          1116,
          1117,
          1118,
          1119,
          1120,
          1121,
          1122,
          1123,
          1124,
          1125,
          1126,
          1127,
          1128,
          1129,
          1130,
          1131,
          1132,
          1133,
          1134,
          1135,
          1136,
          1137,
          1138,
          1139,
          1140,
          1141,
          1142,
          1143,
          1144,
          1145,
          1146,
          1147,
          1148,
          1149,
          1150,
          1151,
          1152,
          1153,
          1154,
          1155,
          1156,
          1157,
          1158,
          1159,
          1160,
          1161,
          1162,
          1163,
          1164,
          1165,
          1166,
          1167,
          1168,
          1169,
          1170,
          1171,
          1172,
          1173,
          1174,
          1175,
          1176,
          1177,
          1178,
          1179,
          1180,
          1181,
          1182,
          1183,
          1184,
          1185,
          1186,
          1187,
          1188,
          1189,
          1190,
          1191,
          1192,
          1193,
          1194,
          1195,
          1196,
          1197,
          1198,
          1199,
          1200,
          1201,
          1202,
          1203,
          1204,
          1205,
          1206,
          1207,
          1208,
          1209,
          1210,
          1211,
          1212,
          1213,
          1214,
          1215,
          1216,
          1217,
          1218,
          1219,
          1220,
          1221,
          1222,
          1223,
          1224,
          1225,
          1226,
          1227,
          1228,
          1229,
          1230,
          1231,
          1232,
          1233,
          1234,
          1235,
          1236,
          1237,
          1238,
          1239,
          1240,
          1241,
          1242,
          1243,
          1244,
          1245,
          1246,
          1247,
          1248,
          1249,
          1250,
          1251,
          1252,
          1253,
          1254,
          1255,
          1256,
          1257,
          1258,
          1259,
          1260,
          1261,
          1262,
          1263,
          1264,
          1265,
          1266,
          1268,
          1269,
          1270,
          1271,
          1272,
          1273,
          1274,
          1275,
          1276,
          1277,
          1278,
          1279,
          1280,
          1281,
          1282,
          1283,
          1284,
          1285,
          1286,
          1287,
          1288,
          1289,
          1290,
          1291,
          1292,
          1293,
          1294,
          1295,
          1296,
          1297,
          1298,
          1299,
          1300,
          1301,
          1302,
          1303,
          1304,
          1305,
          1306,
          1307,
          1308,
          1309,
          1310,
          1311,
          1312,
          1313,
          1314,
          1315,
          1316,
          1317,
          1318,
          1319,
          1320,
          1321,
          1322,
          1323,
          1324,
          1325,
          1326,
          1327,
          1328,
          1329,
          1330,
          1331,
          1332,
          1333,
          1334,
          1335,
          1336,
          1337,
          1338,
          1339,
          1340,
          1341,
          1342,
          1343,
          1344,
          1345,
          1346,
          1347,
          1348,
          1349,
          1350,
          1351,
          1352,
          1353,
          1354,
          1355,
          1356,
          1357,
          1358,
          1359,
          1360,
          1361,
          1362,
          1363,
          1364,
          1365,
          1366,
          1367,
          1368,
          1369,
          1370,
          1371,
          1372,
          1373,
          1374,
          1375,
          1376,
          1377,
          1378,
          1379,
          1380,
          1381,
          1382,
          1383,
          1384,
          1385,
          1386,
          1387,
          1388,
          1389,
          1390,
          1391,
          1392,
          1393,
          1394,
          1395,
          1396,
          1397,
          1398,
          1399,
          1400,
          1401,
          1402,
          1403,
          1404,
          1405,
          1406,
          1407,
          1408,
          1409,
          1410,
          1411,
          1412,
          1413,
          1414,
          1415,
          1416,
          1417,
          1418,
          1419,
          1420,
          1421,
          1422,
          1423,
          1424,
          1425,
          1426,
          1427,
          1428,
          1429,
          1430,
          1431,
          1432,
          1433,
          1434,
          1435,
          1436,
          1437,
          1438,
          1439,
          1440,
          1441,
          1444,
          1445,
          1446,
          1447,
          1448,
          1449,
          1450,
          1451,
          1452,
          1453,
          1454,
          1455,
          1456,
          1457,
          1458,
          1459,
          1460,
          1461,
          1462,
          1464,
          1465,
          1466,
          1468,
          1469,
          1470,
          1471,
          1472,
          1473,
          1474,
          1475,
          1477,
          1478,
          1479,
          1481,
          1482,
          1483,
          1484,
          1485,
          1486,
          1487,
          1488,
          1489,
          1491,
          1492,
          1494,
          1495,
          1496,
          1497,
          1498,
          1499,
          1501,
          1502,
          1503,
          1504,
          1505,
          1507,
          1508,
          1509,
          1510,
          1512,
          1513,
          1514,
          1515,
          1516,
          1517,
          1520,
          1521,
          1522,
          1523,
          1524,
          1525,
          1526,
          1527,
          1528,
          1529,
          1530,
          1531,
          1532,
          1533,
          1535,
          1536,
          1537,
          1538,
          1539,
          1540,
          1541,
          1542,
          1543,
          1545,
          1546,
          1548,
          1549,
          1550,
          1551,
          1552,
          1553,
          1554,
          1555,
          1556,
          1557,
          1558,
          1559,
          1560,
          1562,
          1563,
          1564,
          1565,
          1567,
          1568,
          1569,
          1570,
          1571,
          1573,
          1574,
          1575,
          1576,
          1578,
          1580,
          1581,
          1582,
          1583,
          1584,
          1585,
          1586,
          1587,
          1588,
          1589,
          1590,
          1591,
          1592,
          1594,
          1596,
          1597,
          1598,
          1599,
          1600,
          1601,
          1602,
          1603,
          1605,
          1606,
          1607,
          1608,
          1609,
          1611,
          1613,
          1615,
          1616,
          1617,
          1618,
          1619,
          1620,
          1621,
          1622,
          1623,
          1624,
          1625,
          1627,
          1628,
          1630,
          1632,
          1635,
          1636,
          1637,
          1638,
          1639,
          1640,
          1641,
          1642,
          1643,
          1644,
          1645,
          1648,
          1651,
          1652,
          1653,
          1654,
          1655,
          1656,
          1657,
          1658,
          1659,
          1661,
          1662,
          1663,
          1664,
          1668,
          1669,
          1670,
          1671,
          1672,
          1674,
          1675,
          1676,
          1677,
          1679,
          1680,
          1681,
          1682,
          1683,
          1684,
          1685,
          1687,
          1688,
          1690,
          1691,
          1692,
          1693,
          1694,
          1695,
          1696,
          1697,
          1699,
          1700,
          1701,
          1703,
          1704,
          1706,
          1707,
          1708,
          1709,
          1710,
          1711,
          1714,
          1715,
          1716,
          1717,
          1718,
          1719,
          1720,
          1721,
          1723,
          1725,
          1726,
          1727,
          1730,
          1732,
          1733,
          1736,
          1737,
          1738,
          1739,
          1741,
          1742,
          1744,
          1745,
          1746,
          1747,
          1748,
          1749,
          1752,
          1754,
          1755,
          1757,
          1759,
          1761,
          1762,
          1763,
          1766,
          1767,
          1768,
          1769,
          1770,
          1772,
          1773,
          1774,
          1775,
          1778,
          1780,
          1781,
          1782,
          1783,
          1784,
          1786,
          1793,
          1796,
          1797,
          1799,
          1800,
          1801,
          1803,
          1804,
          1806,
          1807,
          1808,
          1809,
          1810,
          1813,
          1814,
          1815,
          1817,
          1819,
          1820,
          1821,
          1822,
          1824,
          1825,
          1827,
          1828,
          1829,
          1830,
          1831,
          1832,
          1834,
          1835,
          1838,
          1839,
          1840,
          1841,
          1844,
          1845,
          1846,
          1848,
          1849,
          1850,
          1851,
          1852,
          1853,
          1854,
          1855,
          1857,
          1860,
          1861,
          1862,
          1863,
          1868,
          1869,
          1870,
          1871,
          1873,
          1875,
          1881,
          1882,
          1883,
          1886,
          1888,
          1890,
          1892,
          1893,
          1894,
          1897,
          1898,
          1899,
          1901,
          1905,
          1906,
          1909,
          1911,
          1914,
          1918,
          1922,
          1929,
          1931,
          1933,
          1934,
          1936,
          1939,
          1940,
          1942,
          1944,
          1946,
          1947,
          1948,
          1949,
          1950,
          1952,
          1953,
          1960,
          1962,
          1963,
          1968,
          1970,
          1971,
          1972,
          1973,
          1974,
          1975,
          1978,
          1979,
          1981,
          1982,
          1983,
          1987,
          1989,
          1990,
          1993,
          1994,
          1995,
          1997,
          1998,
          2000,
          2001,
          2002,
          2004,
          2006,
          2007,
          2008,
          2009,
          2016,
          2019,
          2024,
          2026,
          2030,
          2032,
          2035,
          2037,
          2038,
          2040,
          2042,
          2043,
          2044,
          2046,
          2047,
          2048,
          2051,
          2053,
          2054,
          2055,
          2056,
          2057,
          2060,
          2062,
          2064,
          2065,
          2066,
          2068,
          2070,
          2071,
          2075,
          2076,
          2089,
          2090,
          2091,
          2093,
          2096,
          2097,
          2100,
          2101,
          2105,
          2107,
          2111,
          2113,
          2114,
          2115,
          2117,
          2118,
          2120,
          2121,
          2122,
          2125,
          2126,
          2127,
          2130,
          2135,
          2136,
          2137,
          2140,
          2141,
          2142,
          2143,
          2145,
          2147,
          2148,
          2150,
          2151,
          2152,
          2155,
          2156,
          2157,
          2158,
          2163,
          2172,
          2173,
          2174,
          2177,
          2180,
          2181,
          2182,
          2190,
          2191,
          2200,
          2204,
          2206,
          2215,
          2216,
          2217,
          2219,
          2222,
          2224,
          2225,
          2226,
          2227,
          2229,
          2233,
          2234,
          2237,
          2246,
          2249,
          2258,
          2260,
          2274,
          2277,
          2283,
          2285,
          2298,
          2299,
          2301,
          2304,
          2306,
          2307,
          2311,
          2319,
          2320,
          2325,
          2326,
          2328,
          2329,
          2332,
          2334,
          2337,
          2338,
          2343,
          2346,
          2348,
          2350,
          2353,
          2354,
          2357,
          2362,
          2364,
          2365,
          2366,
          2370,
          2386,
          2394,
          2395,
          2400,
          2402,
          2403,
          2408,
          2411,
          2415,
          2424,
          2430,
          2431,
          2432,
          2436,
          2437,
          2438,
          2441,
          2443,
          2448,
          2449,
          2452,
          2458,
          2462,
          2468,
          2474,
          2475,
          2478,
          2483,
          2484,
          2486,
          2488,
          2489,
          2490,
          2496,
          2501,
          2502,
          2505,
          2508,
          2513,
          2518,
          2522,
          2523,
          2525,
          2532,
          2536,
          2545,
          2547,
          2550,
          2558,
          2559,
          2567,
          2570,
          2573,
          2582,
          2586,
          2587,
          2588,
          2596,
          2597,
          2599,
          2601,
          2605,
          2607,
          2608,
          2618,
          2619,
          2620,
          2628,
          2635,
          2636,
          2638,
          2641,
          2646,
          2657,
          2662,
          2663,
          2677,
          2680,
          2688,
          2694,
          2708,
          2709,
          2717,
          2719,
          2731,
          2741,
          2750,
          2751,
          2760,
          2765,
          2769,
          2770,
          2773,
          2775,
          2778,
          2779,
          2780,
          2783,
          2786,
          2790,
          2791,
          2794,
          2795,
          2799,
          2803,
          2806,
          2815,
          2824,
          2835,
          2836,
          2848,
          2850,
          2858,
          2862,
          2863,
          2878,
          2881,
          2900,
          2901,
          2904,
          2907,
          2909,
          2910,
          2915,
          2926,
          2928,
          2929,
          2936,
          2943,
          2948,
          2958,
          2959,
          2961,
          2963,
          2965,
          2966,
          2967,
          2971,
          2975,
          2979,
          2989,
          3002,
          3004,
          3010,
          3011,
          3017,
          3019,
          3021,
          3024,
          3040,
          3041,
          3042,
          3043,
          3045,
          3046,
          3052,
          3053,
          3054,
          3056,
          3076,
          3084,
          3092,
          3093,
          3098,
          3099,
          3102,
          3103,
          3108,
          3111,
          3114,
          3121,
          3128,
          3132,
          3134,
          3137,
          3143,
          3144,
          3148,
          3149,
          3153,
          3159,
          3161,
          3171,
          3184,
          3191,
          3192,
          3193,
          3196,
          3209,
          3217,
          3219,
          3221,
          3222,
          3223,
          3225,
          3226,
          3230,
          3232,
          3252,
          3257,
          3266,
          3279,
          3284,
          3286,
          3289,
          3299,
          3307,
          3314,
          3315,
          3317,
          3322,
          3329,
          3341,
          3345,
          3352,
          3378,
          3381,
          3384,
          3389,
          3395,
          3401,
          3423,
          3441,
          3450,
          3452,
          3481,
          3493,
          3512,
          3516,
          3519,
          3548,
          3550,
          3556,
          3585,
          3599,
          3600
         ],
         "y": [
          0.11600132503380775,
          0.10566136369688728,
          0.14877054819382815,
          0.13397524507591166,
          0.1440704610379827,
          0.15808741325912343,
          0.1804098672385342,
          0.194589248540824,
          0.32612568330553315,
          0.4553727192840775,
          0.21567620658291892,
          0.15505582387325395,
          0.13061205492709166,
          0.10524722993394875,
          0.08895859945289675,
          0.0717539407520306,
          0.1025191412397673,
          0.0876095807072405,
          0.07264452074152195,
          0.09608202135977151,
          0.09562576544024888,
          0.08726855719826632,
          0.08792152392467067,
          0.0817964576529676,
          0.0735661186385711,
          0.08500307999666257,
          0.0629251408345373,
          0.06733452953256407,
          0.05550813345257964,
          0.08821917214391328,
          0.052117701422319966,
          0.05257438084738545,
          0.07744924393912819,
          0.08111957026554893,
          0.08600836364030157,
          0.06192927625940297,
          0.07539696389787316,
          0.06743154431957707,
          0.0619922328329006,
          0.054395192440472785,
          0.06622209015605815,
          0.0835142946442717,
          0.07425307747483031,
          0.08743069246847113,
          0.07606787773636474,
          0.09331872007568988,
          0.059803338747460744,
          0.0889370286494762,
          0.08786971284774983,
          0.06716974924847988,
          0.059118038116301536,
          0.05521455781240462,
          0.07819639179026533,
          0.05136329419465516,
          0.08945151427536814,
          0.0713606103112666,
          0.05010837035738014,
          0.0940674504367138,
          0.07888752278325052,
          0.05378396154311011,
          0.06575054971384506,
          0.06580013492883066,
          0.077979460922941,
          0.0509607687261578,
          0.06864111996984319,
          0.07591246333926531,
          0.09771527256641106,
          0.05524364015370716,
          0.05030646537181098,
          0.052292952067771285,
          0.0962605805878292,
          0.06958510541281253,
          0.05586204920994321,
          0.07092939574942331,
          0.0700658105210471,
          0.0785860160668708,
          0.09807943324105833,
          0.06045368994738374,
          0.09536042405754126,
          0.09520936180944796,
          0.07933299802990673,
          0.07515436789407218,
          0.08407552558141713,
          0.06175120526944797,
          0.09768062521111127,
          0.06362369638400249,
          0.0664140796203768,
          0.06311801402537456,
          0.06031435331415435,
          0.05562377201233622,
          0.06813048404829686,
          0.06268528685200454,
          0.06938877429957038,
          0.05884895916850193,
          0.06859780859949523,
          0.07983985066954179,
          0.07396322627136735,
          0.08217321972108496,
          0.07766475052549882,
          0.07115150749161459,
          0.09922720846627983,
          0.07706340753822159,
          0.08620169174237108,
          0.052857478143122257,
          0.09351072102728436,
          0.09808534188398062,
          0.0994219901750985,
          0.05552968887861717,
          0.061760596468772466,
          0.07137650624212759,
          0.09710650573196328,
          0.0894334276570119,
          0.09769728936096518,
          0.06315771749261229,
          0.07015824439243769,
          0.0871590222659297,
          0.08703881971348547,
          0.05013858314084647,
          0.06484949441544191,
          0.08130645434633726,
          0.09320876045991575,
          0.0852810639161043,
          0.06040057815454792,
          0.05699694294710694,
          0.09946455911203618,
          0.0680074162205077,
          0.06455926257539858,
          0.05520309714914893,
          0.07294382126069876,
          0.09142687409956396,
          0.051074256034181774,
          0.057018403340860356,
          0.06592415415894916,
          0.08097714090877695,
          0.05357159714209433,
          0.08178839821141837,
          0.06475711315297894,
          0.06797933532532126,
          0.06406541120361847,
          0.07674347415887658,
          0.06351878124643386,
          0.05679034663848952,
          0.07454668742333902,
          0.05547346257995788,
          0.052643645597422156,
          0.0747727294141762,
          0.0933661743075838,
          0.05077949068969728,
          0.05292870897039825,
          0.0928673245500219,
          0.06937134085048607,
          0.07656202665914427,
          0.07825368222496853,
          0.08305325450950263,
          0.0857419081544274,
          0.06468284243428878,
          0.09330199677451778,
          0.07124114014904423,
          0.09446746381136843,
          0.08682688252886109,
          0.07788522351251545,
          0.055587359255342896,
          0.05847167534337629,
          0.05324687761856378,
          0.0790596397893153,
          0.06867556994654149,
          0.06485510837928807,
          0.08237681258639941,
          0.08596999873778444,
          0.07868245020397255,
          0.06909381774836199,
          0.06415766005234703,
          0.05169810553635745,
          0.07318863843425388,
          0.0899073478831282,
          0.07366460828320141,
          0.05336437723758331,
          0.06268349280279935,
          0.08979497672225807,
          0.09583239874193379,
          0.07737801354594626,
          0.08745115150930394,
          0.08909587536884217,
          0.06815770119827984,
          0.08045052724295283,
          0.052131838337769305,
          0.08725365299923714,
          0.09202543107239816,
          0.09759531180272138,
          0.09213200850596555,
          0.0678994459583469,
          0.09364778115041508,
          0.07882850576084613,
          0.07151535529305778,
          0.07813051298312654,
          0.06118957078535672,
          0.07949709493359168,
          0.05952225683204475,
          0.06688524872207594,
          0.09325335761688097,
          0.07328631822864992,
          0.07948377596490211,
          0.09444278066049096,
          0.0883114668578861,
          0.055188080165602976,
          0.07202737827070387,
          0.09940770870080201,
          0.07525186002750363,
          0.0691290358836123,
          0.057511057367458276,
          0.0848008913207544,
          0.05911236603573647,
          0.05245952979183218,
          0.09481331212186662,
          0.05700385764676841,
          0.09884601059577756,
          0.0736142438099459,
          0.09187602686431341,
          0.06230224434092213,
          0.05337635607973287,
          0.08022744320674809,
          0.08397963453137006,
          0.09044873611900109,
          0.05050624768308404,
          0.08902541537539158,
          0.0988116090831755,
          0.05933853970915004,
          0.07854001792968904,
          0.07719368446349464,
          0.09981170023279987,
          0.06639452614725413,
          0.07989904638944464,
          0.09420686025743438,
          0.05161211577707739,
          0.08097705214362479,
          0.08922297693869798,
          0.08194763431835819,
          0.0864827288373052,
          0.06308593354911475,
          0.05038608365408451,
          0.05522842390092311,
          0.07079460586678966,
          0.06708365582684568,
          0.05232664023408973,
          0.07141247235113257,
          0.05011010686671452,
          0.09859447484742842,
          0.07988103135188925,
          0.07249751722663596,
          0.09239835400727577,
          0.06364406882523807,
          0.06389354862945804,
          0.06788527690419455,
          0.06520110482378934,
          0.07358406117703079,
          0.08394328596571896,
          0.06895024949739638,
          0.0626396402420702,
          0.050872674983004317,
          0.07256245515449508,
          0.08504601249712586,
          0.06547296266362579,
          0.09620292337584946,
          0.07215233078601699,
          0.0761089172855641,
          0.060755801691393004,
          0.09753515670326718,
          0.08733511891990539,
          0.07811762440760071,
          0.09428596845792385,
          0.09224788027665012,
          0.08227225257434281,
          0.06377891683694584,
          0.09971183211200565,
          0.08445370332257074,
          0.07834469879610663,
          0.07865581035735045,
          0.08094609229128638,
          0.05272637811075444,
          0.09316427758709472,
          0.0910498483766518,
          0.09617409333253261,
          0.08989475920298158,
          0.08447050845291895,
          0.06491409243826798,
          0.08749083121599117,
          0.05547389512154915,
          0.08389269601614896,
          0.08022404900913623,
          0.09713558210304048,
          0.0650694466341187,
          0.07565499196090746,
          0.08517028658628098,
          0.06110843608728201,
          0.051630028825594435,
          0.0883684823068086,
          0.06943426323495903,
          0.09029713856719801,
          0.07223825197308462,
          0.0667758334676137,
          0.05354600669941423,
          0.06708178725266295,
          0.061995093756804974,
          0.07256998346819146,
          0.054927852572689784,
          0.06561841823577813,
          0.08195624091457906,
          0.07240405098249537,
          0.05907252033578307,
          0.07987843618671712,
          0.05542602557422729,
          0.07019490868709151,
          0.06523076389123156,
          0.08845711270084451,
          0.08155790763158775,
          0.05208511774048259,
          0.050587126220482476,
          0.08627645592962982,
          0.09093009962278913,
          0.05645046263239574,
          0.061168137267664,
          0.08223664222365376,
          0.08354018982781145,
          0.0656366121502234,
          0.06332053884164734,
          0.08045676510710474,
          0.09735948046549048,
          0.07398303400196743,
          0.06902347261493294,
          0.08567295232079927,
          0.08674644641284748,
          0.07922108360944792,
          0.0772265321652637,
          0.09493341542358576,
          0.0708341525074535,
          0.07026606245679742,
          0.05815836695044321,
          0.06987934482607291,
          0.09117930767624396,
          0.07347716558606826,
          0.07547887469793073,
          0.08287140507698634,
          0.08188333949038508,
          0.051015288998762134,
          0.0713764456969053,
          0.09032209189502186,
          0.08299031449071369,
          0.09538029997412753,
          0.06033521133845785,
          0.07727644928551594,
          0.09126230863268317,
          0.07517002658098418,
          0.09312485611826328,
          0.06325768094798054,
          0.060602690439856,
          0.07023784027499957,
          0.07732786471057704,
          0.08348383288454686,
          0.054001789747774934,
          0.07757181205803032,
          0.0606711157072608,
          0.06385005586912144,
          0.08028787531344105,
          0.06495266518291555,
          0.05353398390107008,
          0.07414683606281743,
          0.0829022344129309,
          0.059638782544923476,
          0.08698858570228335,
          0.07607046298409126,
          0.09838504257376823,
          0.07638359022357802,
          0.06404150705778609,
          0.0940982014906857,
          0.09418300870690006,
          0.07873186404054064,
          0.06624718626007145,
          0.0613953766389414,
          0.09099409846910016,
          0.06177946110934005,
          0.08634615767893492,
          0.05323609284371727,
          0.06006442335394439,
          0.06107066485715845,
          0.08980113716144783,
          0.07352912066848684,
          0.06659920671231591,
          0.050366744239118084,
          0.08448882075664749,
          0.06074118844614304,
          0.06376585357205952,
          0.08622889172136416,
          0.0907479079405684,
          0.0654352841566864,
          0.05903096913291111,
          0.09162349790135868,
          0.08092642314301016,
          0.06243039032926976,
          0.08720241724092428,
          0.08619531452035616,
          0.0734463179576677,
          0.06886703866039642,
          0.07383817083642347,
          0.07985067730072548,
          0.08337433470950822,
          0.0966637501406069,
          0.07653519085390689,
          0.055284779212452395,
          0.08100824361094183,
          0.06699517292588944,
          0.09933211607760316,
          0.0936480284199208,
          0.05985098654249338,
          0.09916729571637133,
          0.06953634745902228,
          0.06939163655908426,
          0.07545201919010641,
          0.09555289060440623,
          0.06347545317483616,
          0.08246029415960729,
          0.08023449874302267,
          0.08459381573837874,
          0.07185777762267974,
          0.09503613588062977,
          0.06413027769951747,
          0.06656504398180686,
          0.07754031375808804,
          0.06194876519051998,
          0.052673560806148274,
          0.06735183626593383,
          0.09654056915620848,
          0.08752782041119594,
          0.07313166075418484,
          0.06505316456524488,
          0.09779015498546437,
          0.08287427543713304,
          0.078957199987236,
          0.08765271866671796,
          0.06002441294370573,
          0.08637481702539321,
          0.08303417897451346,
          0.06993212052593786,
          0.06570222677239383,
          0.06351888327330495,
          0.08483036234952332,
          0.09449507582645378,
          0.053513604398432224,
          0.055978725423228085,
          0.05608211673033381,
          0.07362579964263707,
          0.08964151047916824,
          0.06583844591167172,
          0.09054818195242653,
          0.0847389344273815,
          0.06456920369614721,
          0.07062810323621421,
          0.0703035184051906,
          0.06096452624840809,
          0.06262540630990183,
          0.09337355446686743,
          0.05532692943314072,
          0.08312125907551171,
          0.05445349520959735,
          0.07546146090682467,
          0.09529156448954418,
          0.09260266299602403,
          0.0980770759099278,
          0.09866892591445903,
          0.053011583843218885,
          0.09583139277305033,
          0.07211431768743508,
          0.06410661507961478,
          0.06463727370518868,
          0.06041011992625234,
          0.07940120581931764,
          0.08728009832811157,
          0.05246393050068755,
          0.0983410351318785,
          0.050975752550273416,
          0.08061990910483036,
          0.06426337319279875,
          0.07268882193986939,
          0.059692009889336414,
          0.09640839464807724,
          0.06328374758082728,
          0.0645224167252143,
          0.06925045140243093,
          0.08615891477783312,
          0.0706603866495838,
          0.09842686495170144,
          0.07575781646140216,
          0.0771796022464908,
          0.08772687061762902,
          0.06688420530781697,
          0.09758173908727871,
          0.07891666686965562,
          0.05438172060599819,
          0.08923974005350294,
          0.09185388291123571,
          0.05543892406561275,
          0.07147328190045328,
          0.08495890083242585,
          0.05301160500049888,
          0.05529345831455686,
          0.07090396142000041,
          0.09736710148837392,
          0.09281008496482336,
          0.08574418365125586,
          0.07255537584713216,
          0.07969578228096888,
          0.06699016730508411,
          0.08298137088249322,
          0.09639353465728547,
          0.09815794469469932,
          0.058226421178525625,
          0.08279450330754866,
          0.07718869253466369,
          0.052252795507063514,
          0.05635226872008695,
          0.06366906672345293,
          0.06106627624619748,
          0.05904286288489605,
          0.0890275862809542,
          0.05195499011960279,
          0.08487343131255894,
          0.08976537669565354,
          0.060581317949729624,
          0.07217168233809607,
          0.05406383311907189,
          0.05686996650240076,
          0.09262292357429354,
          0.06627535356698368,
          0.08031024058025467,
          0.08449878278948161,
          0.09440434307241963,
          0.08795823306594058,
          0.09866965445381089,
          0.07475217283167054,
          0.07165498864845718,
          0.05854233829298769,
          0.060562246053995274,
          0.07182656223096669,
          0.05552312493747587,
          0.062339741784848135,
          0.06388085508044722,
          0.07505414152466838,
          0.09304732438423632,
          0.07943697877498197,
          0.058916460898368606,
          0.05153507962608142,
          0.08656524153734171,
          0.05097708017171504,
          0.07456954397780832,
          0.06693431688795694,
          0.06218007292490301,
          0.06173557947780073,
          0.0793883682615041,
          0.09052710552790101,
          0.05335385661020714,
          0.06404945493803504,
          0.07599554584411722,
          0.08670895741238507,
          0.06507356792381833,
          0.07157523228011224,
          0.09345162133863179,
          0.09464752249554198,
          0.08207577578005305,
          0.09683574456274785,
          0.053539441296416336,
          0.0679327351581831,
          0.057863115494055255,
          0.09233549792567916,
          0.09839959502961436,
          0.06469528159965549,
          0.05859152723698039,
          0.06444499205205936,
          0.08573546621851383,
          0.055065886415131104,
          0.0943125775251072,
          0.05731038158478828,
          0.08654583364393234,
          0.07827837598027963,
          0.08288038712069594,
          0.06707123216123384,
          0.06895629278608553,
          0.05892320798465642,
          0.06747252622600475,
          0.09201589030935643,
          0.07499663876682706,
          0.06375373103468225,
          0.08739118597989175,
          0.07894754932733,
          0.09923817708231684,
          0.07832289821958521,
          0.06898926862530408,
          0.08333238845395075,
          0.05196495480621197,
          0.05167934919844789,
          0.086572181859253,
          0.051454246367280965,
          0.0889592996643286,
          0.07147372809180763,
          0.07219083110528247,
          0.08207623983981696,
          0.08122054103097302,
          0.09829567380597218,
          0.09127257245929254,
          0.05958150990839543,
          0.09842126302192779,
          0.06338388578672291,
          0.07142452449867635,
          0.0840774232274929,
          0.06742910208837428,
          0.05023138636518959,
          0.05334573221662482,
          0.08114244102911151,
          0.09754169343207947,
          0.0601951354158661,
          0.08707935790952377,
          0.06982547528456089,
          0.0971152371611492,
          0.060637620298326964,
          0.05031268016916561,
          0.06781539863521674,
          0.050634204402336624,
          0.07917436926446836,
          0.060256215263697795,
          0.07773144549380752,
          0.0973346363699675,
          0.0679803496379967,
          0.09767373027378053,
          0.0878763004177681,
          0.07687822198880923,
          0.06882099226991284,
          0.08473445605063662,
          0.08240264234924405,
          0.06762933572090063,
          0.08720649803540359,
          0.07326257234733931,
          0.06661786454760611,
          0.09421080506014554,
          0.09474546811075431,
          0.057146606654710906,
          0.06677941687228992,
          0.06403157018089257,
          0.08827479891702705,
          0.07851856104953628,
          0.05201479511206074,
          0.05250815170829558,
          0.09932529366553232,
          0.0595687575958292,
          0.08836284723186043,
          0.08359655615694564,
          0.050628417696808266,
          0.0944299618323352,
          0.06282175404763092,
          0.0539178096836857,
          0.06474129198367927,
          0.09808596316131694,
          0.08572344691524042,
          0.05834297924711282,
          0.05884201750762837,
          0.05425178795086805,
          0.07266376121526853,
          0.0988095055799606,
          0.07610294125109823,
          0.07298859324148606,
          0.09508488170415233,
          0.05553362442412478,
          0.09142917622543376,
          0.09120040938966148,
          0.07638694360341473,
          0.0636463922302325,
          0.05428066582605667,
          0.09245471277009339,
          0.06029193310860169,
          0.052650260477510605,
          0.0646964236833315,
          0.07109101544684587,
          0.09598904615060481,
          0.07270804713338522,
          0.07404327320459109,
          0.09107261708213402,
          0.0796899254396334,
          0.09844301566954376,
          0.06810307891026883,
          0.07660924603726217,
          0.05067200212931042,
          0.056051363740867784,
          0.08655215157903526,
          0.07538159503699693,
          0.09638300092859906,
          0.06696191085280874,
          0.07435025471897631,
          0.06862280877076446,
          0.05966216034999927,
          0.08983973027532506,
          0.06911665077296231,
          0.06171268331165948,
          0.09544247490138386,
          0.05456081582968808,
          0.08561500321819195,
          0.054678155374598775,
          0.07975882795540418,
          0.082032826676205,
          0.08915695088791371,
          0.05797339474081789,
          0.05532032682160996,
          0.06345888887385386,
          0.09277990678279076,
          0.063429353429967,
          0.07666731500138317,
          0.09623066554350398,
          0.0547786729435349,
          0.09455231568131602,
          0.09916535960008421,
          0.0786383655133124,
          0.05275370828334296,
          0.09883971008512651,
          0.06279124795548136,
          0.07762705993102634,
          0.08270717739446135,
          0.07351434244270025,
          0.06950201662941438,
          0.07933921344232092,
          0.08376766183771309,
          0.09867192741585613,
          0.07891618579740564,
          0.06165806654768066,
          0.09283937006267913,
          0.06437017214246413,
          0.06636029838626345,
          0.07065721447497723,
          0.09874193078304454,
          0.05406163023665692,
          0.06227372415681083,
          0.08847606498678388,
          0.06912757328385995,
          0.0615092477049267,
          0.0658469321353123,
          0.0931415039698017,
          0.05654981083078307,
          0.08231339708097421,
          0.05024747799762144,
          0.09393218600638335,
          0.09425828559719074,
          0.06975597730321685,
          0.09493189867344366,
          0.08832544054045735,
          0.09794269693511194,
          0.06128050104978465,
          0.05808588965357209,
          0.07062865410124906,
          0.08104939275752879,
          0.08005899620008533,
          0.09410338593252958,
          0.07669935948641719,
          0.07088703383284015,
          0.0752999561709,
          0.08727694500615846,
          0.09478401110376675,
          0.05468307120765678,
          0.0832134915964234,
          0.09965046077420452,
          0.06918656935490934,
          0.06385791101025134,
          0.0795728201358694,
          0.08330634198057556,
          0.09350297029561017,
          0.07877583595084485,
          0.05099893123453508,
          0.05405142183600537,
          0.06956069883900778,
          0.08200736835990427,
          0.06881319670951612,
          0.062292346863116674,
          0.06197909573900979,
          0.06251494616486997,
          0.0761492594659985,
          0.08561748174732242,
          0.06946769348289207,
          0.05789160036658469,
          0.06639473793454762,
          0.0690389152099353,
          0.09424316338942126,
          0.09465042903710161,
          0.08535877947263645,
          0.07346328897993948,
          0.09642460560442741,
          0.05908739021657126,
          0.0994467209547017,
          0.09105745075624277,
          0.07115265044430573,
          0.05422727280506983,
          0.0515354992560402,
          0.052331441536203525,
          0.08835208420741397,
          0.0799873144498944,
          0.0885610803088587,
          0.0798499871382942,
          0.08309915850251752,
          0.09564244237946395,
          0.0697708229970132,
          0.08195596721983991,
          0.06936209224899205,
          0.07861503013154196,
          0.06525565925627774,
          0.09526583955716772,
          0.08869672672729381,
          0.07211005908460665,
          0.05041725459243493,
          0.07911992961227574,
          0.08480868860722188,
          0.09847583726032577,
          0.05055782968959634,
          0.07204825729527914,
          0.06167600350607172,
          0.08262632107437298,
          0.05012515555515856,
          0.07852034970257528,
          0.05928784447296073,
          0.08260575890840871,
          0.08819704448917146,
          0.051151037833905885,
          0.09958071338874064,
          0.051594391950629634,
          0.05673381754995568,
          0.07325768630779245,
          0.08781721895075172,
          0.07162952495747686,
          0.06603052496980416,
          0.09331495247372175,
          0.06460457637265445,
          0.0619511686634052,
          0.053109988537326416,
          0.07858953222160887,
          0.08316424664650901,
          0.0990541153319618,
          0.07090458179565248,
          0.06233787984484964,
          0.09232872980006888,
          0.05380799267551714,
          0.06835364292642566,
          0.09931105905154783,
          0.06675076433088492,
          0.0554906803928775,
          0.0800172485014916,
          0.06884654712784866,
          0.07702222881471844,
          0.0658970347308255,
          0.09557582569608362,
          0.059256777946158225,
          0.07445794070573669,
          0.06377634753883829,
          0.0798476691639583,
          0.08464452126462646,
          0.07863110829482056,
          0.08150816655126344,
          0.07019242336105488,
          0.08968222178615444,
          0.07293090090649954,
          0.09714020044298216,
          0.08853036459172538,
          0.07585151104201358,
          0.0647716915176244,
          0.09304422860427797,
          0.06224344699657599,
          0.09437124715374959,
          0.07846165398794137,
          0.06520767449546237,
          0.09429464121225206,
          0.05473160660638626,
          0.057337300037204386,
          0.06259997371605364,
          0.05131946535295702,
          0.09984259358100459,
          0.08738968230038416,
          0.05218847504794736,
          0.05298718118103262,
          0.05689544692949831,
          0.07808827840267595,
          0.08868414601985043,
          0.054939771721003096,
          0.09619744618655417,
          0.09919295337946234,
          0.06906971382443872,
          0.09971187921489344,
          0.08191996535737839,
          0.05841226311704561,
          0.08540003436282834,
          0.09226691485966684,
          0.05884586217975512,
          0.0995437638163865,
          0.0729382157036718,
          0.0631421587247701,
          0.06544821058265722,
          0.08523256497632267,
          0.08584893120118112,
          0.08896204766453789,
          0.05823249784905832,
          0.06762675321898654,
          0.09532721584470934,
          0.08293524029786581,
          0.06479339892980537,
          0.05001903504529445,
          0.06624453401451297,
          0.08694846144447341,
          0.0538450043675649,
          0.07238390623381485,
          0.09028228657721399,
          0.06956568656107003,
          0.05067217955689951,
          0.0830862478309312,
          0.07807306184271207,
          0.07986756006588056,
          0.050746525155764874,
          0.07416867850960392,
          0.06583683139046867,
          0.09502790743809038,
          0.07167254076309412,
          0.07582263248265299,
          0.07114622465048596,
          0.07698717076741428,
          0.07249715734728697,
          0.07280922894680303,
          0.0915232681515947,
          0.05635417338012472,
          0.0552983864049138,
          0.07509011036045934,
          0.09896341687801473,
          0.06254299906624347,
          0.09995609312729395,
          0.06006690698907673,
          0.0695869334169105,
          0.09074419707545306,
          0.0610569873775344,
          0.09098385177086898,
          0.09854415409308363,
          0.063983952376053,
          0.09303158129396227,
          0.08291680675186197,
          0.0853451851215499,
          0.0942332818118967,
          0.08294021931841766,
          0.05251989052629951,
          0.06363062686057616,
          0.06536329038214894,
          0.06769559474619993,
          0.094619532929924,
          0.0664405392861678,
          0.062415055959918204,
          0.054851376580733635,
          0.0621986492706923,
          0.07260226596105963,
          0.05393927423141469,
          0.07434073257112998,
          0.055302262048296254,
          0.08261171773090736,
          0.06645383347966763,
          0.09845919570512848,
          0.068108347994393,
          0.07780759337817547,
          0.08543910617364722,
          0.05963175666193421,
          0.07945901555471199,
          0.09633429910754525,
          0.07884177771888858,
          0.050958942398131535,
          0.088046793154213,
          0.06874228096575591,
          0.09430050960892208,
          0.08714214949839305,
          0.07831983328528891,
          0.08223208590954126,
          0.0574582106232483,
          0.06379316844945379,
          0.07873210203874859,
          0.08300066557999532,
          0.08782116555148069,
          0.09329841203256871,
          0.07984154177046446,
          0.08042955684315857,
          0.06540122424196837,
          0.05569701877030128,
          0.05354687930796054,
          0.09669653731299774,
          0.07586639546764765,
          0.0916124845474392,
          0.07348354168383754,
          0.09323630336285381,
          0.06777632722674615,
          0.09322526199404751,
          0.09895266121812579,
          0.06900945177658234,
          0.054313083937700096,
          0.08915779042167657,
          0.05684064336106302,
          0.05737333454611689,
          0.07976656731812189,
          0.07426012654074597,
          0.09189128539841719,
          0.08325485157062124,
          0.0972919748450898,
          0.07590306732385387,
          0.05923168925932392,
          0.08711924594691448,
          0.06476944491673665,
          0.05051878394944368,
          0.05229315782986291,
          0.05594275534915662,
          0.06288858534136847,
          0.06269192238898072,
          0.05354632416843563,
          0.05940670544085836,
          0.09291676006543932,
          0.06756770314967188,
          0.09922101755142199,
          0.0663611771371892,
          0.09355924177398868,
          0.05949310947702678,
          0.07301893398163048,
          0.06614093583154862,
          0.06270612073807155,
          0.05582982599620123,
          0.08528231362442977,
          0.06346675613100604,
          0.06776670384621913,
          0.0913324020643734,
          0.06610453278216749,
          0.09582664314128529,
          0.08229617403762013,
          0.056381418594087025,
          0.07888370955694979,
          0.05365208326799431,
          0.06810471733015805,
          0.09641603290274213,
          0.08935414071918034,
          0.068412112164475,
          0.07842222906508668,
          0.06588956630983071,
          0.07568339303940173,
          0.08527505479658104,
          0.08369174774105015,
          0.07014052314340591,
          0.08178372336124207,
          0.08320515122782937,
          0.07054093462765539,
          0.05503839106379052,
          0.07569965139152322,
          0.06380916917469306,
          0.0739272443587181,
          0.057575506666548155,
          0.061455562655599705,
          0.09987383838587104,
          0.07707549538926503,
          0.05742755664276482,
          0.09567086184364193,
          0.07283682531372952,
          0.09739224522265663,
          0.08635491427120896,
          0.09645102303448032,
          0.05873436765249076,
          0.07441705790776078,
          0.08821523592814165,
          0.0925487226134034,
          0.09847177772344387,
          0.0992782201846336,
          0.09448198268207758,
          0.05401327377504036,
          0.062351547369134695,
          0.06762199680831103,
          0.05584924106072041,
          0.08665329239701539,
          0.0653805789925293,
          0.08330119965484398,
          0.07765371728055796,
          0.07344532132578167,
          0.08172527813882428,
          0.06783667679902845,
          0.05687341526490963,
          0.08776477751810903,
          0.08373043799146679,
          0.08327247683860195,
          0.0797932410036929,
          0.09744512967838864,
          0.07244170464968928,
          0.05429115777176179,
          0.09563821805159119,
          0.08286535041112059,
          0.08578006341664546,
          0.09446949477921304,
          0.06848970014516022,
          0.07632343877246331,
          0.08570516359853406,
          0.07788044904574241,
          0.0784326840111566,
          0.09289836988258333,
          0.08603093932291866,
          0.06543592360757584,
          0.053577508018417576,
          0.0556214841231185,
          0.05488153471395249,
          0.07627047357685937,
          0.06595462500271967,
          0.05767937201155427,
          0.08915525081102985,
          0.09053055485870565,
          0.06546183047548737,
          0.09307763501074062,
          0.09067667170984085,
          0.05489770960803783,
          0.08798680706823492,
          0.07708177728876103,
          0.08643534532744906,
          0.06519901233504707,
          0.08961524666850972,
          0.09530584332146944,
          0.07581450356220144,
          0.09304308330022432,
          0.0679696227197174,
          0.07368317287272298,
          0.05006050977020037,
          0.07837717492446437,
          0.08891130720279666,
          0.07507283930071319,
          0.05143603087746916,
          0.09379582137983422,
          0.06650082962874089,
          0.05956416295782624,
          0.07577396310153572,
          0.09639362082185379,
          0.053446066584070744,
          0.06446659087162264,
          0.05308679113741861,
          0.09472013836767065,
          0.06444793727027007,
          0.07511575112646497,
          0.09932288412448541,
          0.0615433429280392,
          0.05595936013388959,
          0.05241602705961759,
          0.07440584865372038,
          0.06276466275469028,
          0.05840429856516214,
          0.06589622776903961,
          0.08799946188901148,
          0.06379698416328128,
          0.08503887269425453,
          0.08045571140924014,
          0.06547678827408769,
          0.08977184036802996,
          0.05168322448899386,
          0.05713498999772726,
          0.07920502754233104,
          0.08999825644993262,
          0.06128518163410874,
          0.09605071155826628,
          0.06911689732687509,
          0.09393490806166055,
          0.07154229905587241,
          0.06169465551828802,
          0.05583037938445737,
          0.07248228837736594,
          0.06330735806321909,
          0.06796387860089166,
          0.05809136561742476,
          0.09411334681058184,
          0.07657134245947861,
          0.07524213733775731,
          0.07673976806010088,
          0.09876692264460467,
          0.05949946181950644,
          0.07070212558845232,
          0.05911865620753731,
          0.06730863354593689,
          0.09700472386511227,
          0.05898413210180534,
          0.0855862692533516,
          0.07897084931383688,
          0.05130398651932345,
          0.0931933430549899,
          0.09505013271174334,
          0.05936834585284119,
          0.056341532424498714,
          0.08653757937030027,
          0.06620413824840951,
          0.05503431826274677,
          0.0947068997639014,
          0.08268314003022227,
          0.06532479694141229,
          0.06781970420765197,
          0.05874244576429131,
          0.09807847800486101,
          0.0775151906241689,
          0.05764467362593835,
          0.07803316641670696,
          0.07026783214943776,
          0.09916576089626733,
          0.061040165445873706,
          0.07305270395826197,
          0.07532758047501995,
          0.0722853732333928,
          0.0731978228837827,
          0.09289277584544661,
          0.0716486662165392,
          0.056633284329772056,
          0.0564762319706876,
          0.076012341225302,
          0.08595552202391299,
          0.096882970059397,
          0.07550419770154716,
          0.07521183281884199,
          0.07800033102238271,
          0.05500692938961545,
          0.07525258836813264,
          0.09925167709437294,
          0.0948047340801544,
          0.05103130188996788,
          0.09740519234651449,
          0.07173018848080996,
          0.08408832408777472,
          0.06959134484809895,
          0.05607496988753322,
          0.07312989342994487,
          0.09343342515847217,
          0.059986810050842866,
          0.09127703946340605,
          0.09447775654749255,
          0.06432945924114766,
          0.06869340590385101,
          0.08388198078498682,
          0.0564487678712316,
          0.06438781199427382,
          0.06331935437141234,
          0.05874924750227891,
          0.0842241006928996,
          0.08773337527747382,
          0.0832036576453857,
          0.08783015718335654,
          0.0908395643404897,
          0.0757229738563888,
          0.05985230104143979,
          0.09546779913315662,
          0.05157768190082385,
          0.054486890889358056,
          0.08276109402749077,
          0.06347630200454457,
          0.0700326667526475,
          0.05858668859948044,
          0.09410618147305647,
          0.07580576243613443,
          0.07194220233911294,
          0.06108626656798344,
          0.07911983350292513,
          0.07727480201707548,
          0.08756684549115873,
          0.08309894577369253,
          0.08896980276130806,
          0.09329187718324422,
          0.07706317347088133,
          0.05115569277649303,
          0.053211029997712024,
          0.07705306634635689,
          0.09787552658667711,
          0.09249515827621131,
          0.059009302024931494,
          0.08931387272176632,
          0.07963139686748376,
          0.05171696264408547,
          0.06787464460588374,
          0.06317533188099878,
          0.06666639060137555,
          0.06342935836581945,
          0.05829431339263641,
          0.07831392484337207,
          0.05292309085042705,
          0.0746182339717278,
          0.06463960112979561,
          0.081249812416131,
          0.06923185915574094,
          0.0706284601580968,
          0.09175869196235302,
          0.06440443223576832,
          0.07742060558158452,
          0.09571440979034798,
          0.05013350565203723,
          0.05681955989527194,
          0.0991971883040756,
          0.0809299835165758,
          0.053223045736168345,
          0.0655116428696774,
          0.07477228776620135,
          0.07238732107069637,
          0.07899200180230653,
          0.06398631333899624,
          0.05941103474575866,
          0.08310065459545374,
          0.0679123656850499,
          0.062429272136798754,
          0.052494798481724086,
          0.07111091857252566,
          0.0672817011494042,
          0.0707291309616417,
          0.09748979057373887,
          0.07398081804972412,
          0.06532269777773306,
          0.09229677238975605,
          0.06055654138328516,
          0.09623041966496641,
          0.08776963387669931,
          0.05899126199332343,
          0.05934760983013793,
          0.06495029668188633,
          0.06047067453559793,
          0.0801002338320142,
          0.08583072354190478,
          0.058240030205072624,
          0.08107816232049626,
          0.07115518955271713,
          0.08005131065613429,
          0.05525562996665138,
          0.07877288940618038,
          0.0935497336876461,
          0.050878583659657896,
          0.08076965080660256,
          0.05043877082870195,
          0.061971924320625794,
          0.0840287121686791,
          0.0958677425075749,
          0.09201150271534814,
          0.0732645607223962,
          0.0831137587395393,
          0.061366071256834936,
          0.05666071573099834,
          0.09233536203363499,
          0.07182408949540753,
          0.06250183064790628,
          0.0921915409793298,
          0.08585002736458935,
          0.0708327809105171,
          0.06516815626058774,
          0.09767196815230546,
          0.08395754852578621,
          0.05900893772604282,
          0.08281306258461646,
          0.0697758867063116,
          0.09141101289164084,
          0.09846894759967276,
          0.07557908228314102,
          0.08155559758627484,
          0.08952943851274063,
          0.05217269263869019,
          0.06827006474810733,
          0.08689200047900736,
          0.07729635973719558,
          0.08324576974184267,
          0.05177080242014002,
          0.08827990713997401,
          0.08825144391201908,
          0.06787106294986538,
          0.08932869755600636,
          0.09615727000969311,
          0.07229811819829149,
          0.09206177306914191,
          0.07854029349360635,
          0.07289114355231174,
          0.07279917146798986,
          0.057988599436996954,
          0.06982265147063973,
          0.07467162767100825,
          0.07529987455907924,
          0.05625209293053835,
          0.08694241922613086,
          0.07606958991578927,
          0.05949634194956982,
          0.06675169637990505,
          0.0933989142679845,
          0.07201185584660218,
          0.05036181881285884,
          0.08399667333009364,
          0.07506486871021047,
          0.08551720895407808,
          0.058411048288154924,
          0.05071557165227913,
          0.06244193974692991,
          0.05992204686050215,
          0.0822615953606566,
          0.07039906344030375,
          0.07214592599440137,
          0.0977502173944702,
          0.09031437321361534,
          0.07923410507857814,
          0.07780875552421389,
          0.08347834135462759,
          0.07681029542781398,
          0.06081696752144054,
          0.05371994796765437,
          0.06469402543245058,
          0.07611154738425219,
          0.08042418586373672,
          0.0889259949299475,
          0.0510782889219909,
          0.09518126709828108,
          0.09898452558305564,
          0.0825064517411451,
          0.09124822528355418,
          0.07353657223987102,
          0.07632787224114265,
          0.05023307267302715,
          0.09033978383636028,
          0.09383481037873143,
          0.08854388588132282,
          0.09099306440764576,
          0.0765411770355589,
          0.07280477089570822,
          0.06384417653015248,
          0.05847124418457847,
          0.08508810911829356,
          0.09616753367700463,
          0.09545596572356518,
          0.06794831099112751,
          0.09707279642570893,
          0.0823881411109094,
          0.07514398184427276,
          0.09629099394820663,
          0.06292424800786883,
          0.0658124583406182,
          0.07831120074567985,
          0.0639566168702814,
          0.08387701078949387,
          0.09301899857884555,
          0.07603266637845722,
          0.053861965671240436,
          0.0983983007362581,
          0.08112386486439828,
          0.07458548386587051,
          0.07107468764616495,
          0.09321824107184368,
          0.06803915824972896,
          0.09644717286308149,
          0.08431825696575251,
          0.06272275940826043,
          0.06356800123097554,
          0.06952736228859939,
          0.08042665077004608,
          0.06308072731537079,
          0.06087823444826578,
          0.09194371678322241,
          0.05551577836959188,
          0.0978749444238923,
          0.08049593988653134,
          0.05055547675333544,
          0.09495910362699923,
          0.06262065798825732,
          0.08571348158215752,
          0.0856002140709497,
          0.05589099501090031,
          0.09507166568945606,
          0.07418490224729658,
          0.05450030523249072,
          0.09056399580794228,
          0.07564021864705896,
          0.08355217655341968,
          0.09634131153595774,
          0.05387372934114395,
          0.05399689962248247,
          0.08267765254132176,
          0.07245695298845495,
          0.09912130428926547,
          0.07676606795875994,
          0.09825794345100967,
          0.05390336864985287,
          0.07931763747809868,
          0.05000450212502766,
          0.07748684336451654,
          0.06374055083049324,
          0.050452472031499745,
          0.07152243932788663,
          0.0656503896714053,
          0.0883425268723138,
          0.06442032556953671,
          0.06907250152636048,
          0.06238586366395093,
          0.08030302656479611,
          0.08502771848569804,
          0.054383338725101524,
          0.06695199849003615,
          0.05214725988861078,
          0.08426037648115274,
          0.0913868219116224,
          0.054922905527745966,
          0.07211963560468178,
          0.06339923464533222,
          0.08159256169615554,
          0.06763662454947912,
          0.09832504102322726,
          0.06814400702969978,
          0.09627363915976384,
          0.05848509194065338,
          0.06947725479019934,
          0.07027212138302366,
          0.055396880911322964,
          0.06938095681241592,
          0.07059070796427262,
          0.06035376847649315,
          0.0990474674911342,
          0.051154996109475395,
          0.05112303254638586,
          0.07378796762949383,
          0.07861672624216914,
          0.09041815854256588,
          0.05656789386055068,
          0.09029292217827797,
          0.09554836992977706,
          0.050323885784592993,
          0.060861577283355395,
          0.08718913084524493,
          0.07621186687995611,
          0.08595388690349975,
          0.08927627614305386,
          0.08469418877581081,
          0.09922777483786872,
          0.09804237174165402,
          0.09727238277086503,
          0.09973330222177479,
          0.08884604232145393,
          0.07241150482287832,
          0.0790291530318719,
          0.05940722548242092,
          0.09035282108538151,
          0.07276137366451632,
          0.08445305004011466,
          0.0857205338589054,
          0.07454931694819462,
          0.08973408069786842,
          0.052696932297182836,
          0.09443876471082173,
          0.0601944248373112,
          0.07370131627953803,
          0.051130484472431015,
          0.06359053362791839,
          0.09200580391536335,
          0.08812075438292175,
          0.06328609054494842,
          0.08956238000719369,
          0.05822229857159547,
          0.07971313131972124,
          0.09663041107065806,
          0.05811220019106722,
          0.05532747267030411,
          0.08463632036248875,
          0.05439115378576258,
          0.06757355062037217,
          0.09045439156037197,
          0.08151344289702211,
          0.08022871928155856,
          0.056819594051038626,
          0.09021198370494596,
          0.05222054905888596,
          0.05054510913755736,
          0.05802932110182261,
          0.08226345185270047,
          0.08324239178101006,
          0.06438659962332396,
          0.09682189632225464,
          0.06632689866748387,
          0.05027342458523955,
          0.0635243132823212,
          0.05801187445876574,
          0.07158033056887472,
          0.05892170936378585,
          0.0725198085734105,
          0.07148191816768415,
          0.06917833534078359,
          0.08930806178157419,
          0.06545234808100454,
          0.08024411731689539,
          0.07719957229132232,
          0.0722541695776636,
          0.06884536992750376,
          0.07787010068565234,
          0.060906458129394714,
          0.052930337871611846,
          0.08055713271788902,
          0.09496346375404724,
          0.06060618053996875,
          0.09443337725444824,
          0.09161265094787292,
          0.08482769826162401,
          0.0943696232907483,
          0.09809075883426167,
          0.08932508656306132,
          0.05450557051581995,
          0.059316383738386685,
          0.06795881496647402,
          0.09794847180468684,
          0.0664026975262446,
          0.05109101907740526,
          0.09884789176913338,
          0.08151361645018773,
          0.06370690638898928,
          0.06560414583697873,
          0.0633154865341043,
          0.0890774931738935,
          0.09997823719619138,
          0.07225726100420707,
          0.08899175241800243,
          0.06419642186223971,
          0.09180591904541552,
          0.08058095310029134,
          0.06447401109434844,
          0.09203020664773699,
          0.09174829658656194,
          0.0856460685764375,
          0.08333936335471515,
          0.0922229712762673,
          0.09350469717807561,
          0.08810547550380188,
          0.07017668768234991,
          0.06285119213977139,
          0.08673489469340276,
          0.05087060453603079,
          0.06753909652882914,
          0.09637682703953493,
          0.06125792284277307,
          0.08274003315637965,
          0.07628776871184687,
          0.09791701659888788,
          0.05052958297656962,
          0.07158336492470257,
          0.09530298108803154,
          0.09150650069099145,
          0.08795918571472111,
          0.05400010842515441,
          0.0870996637137299,
          0.05024066286538881,
          0.08639339263488001,
          0.06513186481344785,
          0.06804871584842402,
          0.057561469696225415,
          0.09020630418143402,
          0.0894673975225462,
          0.09367947465617657,
          0.07168649449881806,
          0.08543620306853178,
          0.06456078937581113,
          0.09194546405129829,
          0.07785233501147253,
          0.07057760981720633,
          0.058846772840091,
          0.05499177151705592,
          0.0993749536335665,
          0.07681185075620978,
          0.061390996216763805,
          0.055263291960539994,
          0.07386185584787733,
          0.0615959529965112,
          0.06204714123206989,
          0.08667702718597821,
          0.06540259669206132,
          0.06606786252991331,
          0.08179041718380489,
          0.05276917572465381,
          0.09784133941923132,
          0.09512611428805721,
          0.06969034110893578,
          0.09286027327688749,
          0.09142443250086173,
          0.07274310909541058,
          0.05773972506895552,
          0.09149507266548212,
          0.09902979889598254,
          0.0545358968437813,
          0.07043409891588452,
          0.08117804936181901,
          0.07371667483179073,
          0.08627570360822015,
          0.07712969345290856,
          0.05352061945897604,
          0.053867958179217995,
          0.07804562125737799,
          0.08455648532118087,
          0.08603915991419886,
          0.06924870303348123,
          0.09389215615030763,
          0.07818640544078814,
          0.07109064628786864,
          0.07379835337887959,
          0.07180442528954573,
          0.09795772006902226,
          0.06210257831669748,
          0.06800311157354837,
          0.05568278628115497,
          0.09845904254166939,
          0.09821493679669717,
          0.07942374974930208,
          0.06310299422650296,
          0.07846703299889306,
          0.05394662993283327,
          0.09741758547855123,
          0.07816995824495865,
          0.09153479786158232,
          0.08542604473319595,
          0.09074512431269578,
          0.06581489332922252,
          0.08214898329357652,
          0.08430530823812504,
          0.05697122614763145,
          0.07206124859235255,
          0.05676085101078446,
          0.07248729008066541,
          0.0669042170196966,
          0.08102722825993991,
          0.06088666264533338,
          0.08680435178761471,
          0.06266562508261282,
          0.05453125989790458,
          0.09724824511010816,
          0.06885545131784822,
          0.0508032707762188,
          0.09723308255610999,
          0.05227747849240378,
          0.09778386392808777,
          0.07568250928572315,
          0.0998076194255473,
          0.09240415348738093,
          0.07436991296064291,
          0.07929348542727199,
          0.07053848694430756,
          0.07679281277887667,
          0.0830132159844867,
          0.05967410679576909,
          0.07251026452434764,
          0.05664529461791593,
          0.093267298043181,
          0.056270897494578274,
          0.08718389425776646,
          0.061302684024917016,
          0.096091937962751,
          0.08538817504701554,
          0.05372158314212816,
          0.06594777705836705,
          0.06403082033328154,
          0.07140398246626939,
          0.0954375926716091,
          0.09526885463524823,
          0.05787784763049023,
          0.07660811852586741,
          0.09789546847176078,
          0.07585661361360019,
          0.0666841832557911,
          0.06597051621856463,
          0.06326767108971794,
          0.05275128048153937,
          0.05349910830899325,
          0.08068349436637368,
          0.053713532627734935,
          0.06519136791792424,
          0.0661208410440399,
          0.05454789625145841,
          0.050071804007938106,
          0.0679532843331775,
          0.05368244696782575,
          0.08954554721550789,
          0.07367197026943882,
          0.07308020514665943,
          0.08748128782623105,
          0.09336561877568784,
          0.059809585430405716,
          0.06518263149640546,
          0.05621078610713975,
          0.06150429615798178,
          0.06711849227015897,
          0.08513103706776855,
          0.07579091134360608,
          0.06262334924846587,
          0.08839197055462081,
          0.05072862834821493,
          0.061840006181912585,
          0.07206971382540153,
          0.07401917400440311,
          0.052796477048501864,
          0.055931024612431726,
          0.06063278931394802,
          0.051562231423420125,
          0.0830198670844608,
          0.07433578415498643,
          0.06680470288806689,
          0.07716267711873263,
          0.08658210073478845,
          0.08339958484176363,
          0.06579921082844187,
          0.08280549135604896,
          0.08185612248287605,
          0.08625086175335578,
          0.060411949969439896,
          0.07508788968673566,
          0.0939195654814538,
          0.08778809324308956,
          0.06310592317420013,
          0.09742156613414195,
          0.09351099625259285,
          0.09101934362988869,
          0.09092468938665331,
          0.06883448043864432,
          0.0921705779972032,
          0.06112670834079062,
          0.08554557675264075,
          0.0693742990731602,
          0.07887598614891282,
          0.06082927642127756,
          0.056101989118824344,
          0.0792788592530266,
          0.06300404210737696,
          0.0889306706110275,
          0.0711076044950483,
          0.055443894308556355,
          0.06584673599410609,
          0.05287105368827996,
          0.09555425949882458,
          0.05780660498722068,
          0.0680190058154703,
          0.06833134548999586,
          0.09265952168827864,
          0.09306114550523024,
          0.06546472333012249,
          0.08057679267539589,
          0.0918445796789431,
          0.08976289573101275,
          0.09676456720013901,
          0.07652516776383161,
          0.08907706339472427,
          0.09562885136140682,
          0.050151470158122914,
          0.05843311112492417,
          0.06062359653773466,
          0.0913852063070792,
          0.08475247984735129,
          0.0922117553917262,
          0.0721343635698948,
          0.09042697046486287,
          0.09195934909292734,
          0.08620367179661628,
          0.07470817663873032,
          0.05809917541585273,
          0.06086852434616961,
          0.07439226388970671,
          0.052039747951913115,
          0.08781839713088709,
          0.08229338971597466,
          0.07742095376301854,
          0.08815167386075863,
          0.08445052220747779,
          0.0746072180663353,
          0.09247694666358738,
          0.08507691949978693,
          0.0866004220537916,
          0.0907319990460178,
          0.09021846866420108,
          0.08672940273367458,
          0.08425090192994984,
          0.07891081546962414,
          0.0583280414418238,
          0.07674593906892846,
          0.07779153788745678,
          0.06079303378047235,
          0.0705914388280791,
          0.08880307059529831,
          0.058180142692012056,
          0.06729240447327887,
          0.05543512362466095,
          0.07177848643022723,
          0.07704678772097585,
          0.05386272515978524,
          0.051695057981405244,
          0.09016734748677604,
          0.07570340955458595,
          0.05616316961828332,
          0.078975942978636,
          0.0824774738688811,
          0.0884779242080356,
          0.06606503436114941,
          0.08200513554045247,
          0.08823529433200726,
          0.058402446068874514,
          0.0930194055979527,
          0.05212817046297054,
          0.06769039249715508,
          0.08662984036834424,
          0.07998288227139068,
          0.06075583771508622,
          0.05984331485916595,
          0.06645292012418132,
          0.07212099364507821,
          0.08684760095031763,
          0.08219679465652174,
          0.0798673856241614,
          0.08593011253291137,
          0.0776373474627401,
          0.05814907287834665,
          0.056960212678506844,
          0.06165095239265861,
          0.07980479954877269,
          0.08267886217978317,
          0.0813118786623013,
          0.09613142687097428,
          0.09950757055541404,
          0.061557127057946394,
          0.0999478181948686,
          0.05693738165064133,
          0.06419221014089656,
          0.07469201475005235,
          0.09849576477976835,
          0.07843002384378765,
          0.05328568579609216,
          0.06384736789255777,
          0.09615490296239927,
          0.09412470599972489,
          0.05538776941164125,
          0.0634158888530775,
          0.08252899034408262,
          0.06706713678723322,
          0.07436373997893081,
          0.08288119713573597,
          0.08215931625473546,
          0.05495520751995853,
          0.06728718838859062,
          0.052291699611932634,
          0.08838450521053762,
          0.09030608889307155,
          0.07747905061425761,
          0.056241981925969776,
          0.06949613222176881,
          0.08978589307687404,
          0.06272907489258032,
          0.05495909614214521,
          0.0744349435907424,
          0.07801610039116393,
          0.059469395487767994,
          0.08960827213132022,
          0.05169460264238257,
          0.09706574691671824,
          0.0750967762077591,
          0.06108748004948736,
          0.09586535012216087,
          0.05475370316482288,
          0.08515039889171988,
          0.097159097721399,
          0.09648881817215893,
          0.0679970458596492,
          0.09225236104310182,
          0.06825469831208444,
          0.08066054847743725,
          0.09687182806639347,
          0.06727492605280536,
          0.09049312159250956,
          0.07389776857560962,
          0.06441442500993165,
          0.09593383392838528,
          0.05679449301357466,
          0.07874670742086266,
          0.07229188513405356,
          0.08695959716977852,
          0.08829782566736297,
          0.08203118517902093,
          0.08304016375503276,
          0.051161604879394605,
          0.09262978287757687,
          0.07608683943355488,
          0.05573861913682938,
          0.09019681412935246,
          0.07623931606355572,
          0.079124450330259,
          0.07954828423509805,
          0.06185859978087188,
          0.09534732915338626,
          0.05186683751194032,
          0.05381198745376754,
          0.06644595042414703,
          0.07094507307335032,
          0.08814511254252581,
          0.051975377039234494,
          0.08828722833172654,
          0.09674946924813013,
          0.06484081884032404,
          0.056460573495729215,
          0.06890831221604392,
          0.08200122795698794,
          0.09684047384260236,
          0.07315515535726239,
          0.061255581827206,
          0.08444811763098413,
          0.051405772923324024,
          0.06868616210016523,
          0.0798716537191134,
          0.06267833801854664,
          0.05214467010002354,
          0.08004885795140096,
          0.08224903658816679,
          0.06880926033812801,
          0.08380771851901628,
          0.05110822154309181,
          0.05564131050105277,
          0.07201761984076802,
          0.06822511637534061,
          0.08052805767582827,
          0.08261198217946444,
          0.07894890056707318,
          0.08306778043464252,
          0.08067356451187815,
          0.08760296995557883,
          0.059250232298956304,
          0.09791071553668745,
          0.05577681269853855,
          0.09367353548580463,
          0.09402800809137131,
          0.05312781449860974,
          0.0979890513813949,
          0.08300870465538232,
          0.09788923961272264,
          0.08182678822695696,
          0.07394342705213011,
          0.0759055420549194,
          0.06334366888468419,
          0.056997064205551735,
          0.09519519338679458,
          0.09189753940244419,
          0.06020443337803098,
          0.05156377895475378,
          0.07434197714376592,
          0.05388545224035328,
          0.05122336389626011,
          0.06131722332958131,
          0.09169293599346896,
          0.09415741667658864,
          0.07257424188914696,
          0.09324673376483572,
          0.061075797341459084,
          0.0543974290389616,
          0.06772634479587826,
          0.08641810196578055,
          0.08501939076716905,
          0.0720910125145883,
          0.08860575468507205,
          0.07570554335717512,
          0.07840605564199,
          0.09146031802220772,
          0.09923352835307403,
          0.06168084218397107,
          0.05858797628367869,
          0.08563722439045962,
          0.09940210840707886,
          0.06515024130257571,
          0.08409169098369321,
          0.07718001490853886,
          0.06808188991497612,
          0.08324067672099963,
          0.06124387570105258,
          0.06795053299928584,
          0.08756725271200093,
          0.06882975887714815,
          0.08492478040865506,
          0.07850963531260266,
          0.0703063960037784,
          0.09104018507738708,
          0.05509592178561937,
          0.07964493489994225,
          0.06452360452703496,
          0.0537505051994562,
          0.06185246248491199,
          0.08289638495510618,
          0.0773562196384647,
          0.09076464302498566,
          0.09576295076811159,
          0.09114527502287473,
          0.07717683454739267,
          0.057023412808014845,
          0.09359484291872078,
          0.07035248226653298,
          0.08564616186346091,
          0.0528165046506573,
          0.06625193045435043,
          0.07995808617974748,
          0.0933134075289577,
          0.08988619270757876,
          0.055611943279299955,
          0.06830106578807965,
          0.055928145439691226,
          0.05362240668884822,
          0.07484699554860894,
          0.08081575318820772,
          0.08017493136818211,
          0.09294278423670112,
          0.053714678343871385,
          0.062128857138289056,
          0.05107381878769959,
          0.05030590331189459,
          0.08521070729983221,
          0.05291609476263667,
          0.05235855382724004,
          0.06315296483063566,
          0.0723025327735949,
          0.07754946901764245,
          0.059083808610454376,
          0.06280391264130061,
          0.07704603618255398,
          0.08201192231191287,
          0.09314817146399705,
          0.05098363055366181,
          0.06256952864156982,
          0.09259205998051585,
          0.0777300155445579,
          0.0745425993016504,
          0.05463335655326548,
          0.07511781123582986,
          0.052574316760373475,
          0.050858397473216854,
          0.09969076978433436,
          0.06785823736602163,
          0.05468124045200824,
          0.0678030778420607,
          0.06773846295054231,
          0.06727943912038911,
          0.06597380497600262,
          0.09649351374509245,
          0.0757097715808256,
          0.06903273756756964,
          0.08948076675031266,
          0.06966186230979388,
          0.0688084710976555,
          0.07400194359113497,
          0.0580959317294672,
          0.06187793737689539,
          0.07416289458850571,
          0.08899058919885537,
          0.09247222721749743,
          0.07858621227140572,
          0.0898525302667689,
          0.05825085431928694,
          0.06547509090822612,
          0.09402755514217218,
          0.07696734098698123,
          0.0735285009261884,
          0.051761056693730545,
          0.07604965937956013,
          0.08089065523297578,
          0.09493178277711113,
          0.08123105449152612,
          0.09070269485654087,
          0.07808227313606497,
          0.06730344668910686,
          0.06373346548368364,
          0.08622937894132773,
          0.05260241232268592,
          0.05094035623269982,
          0.05152761353175066,
          0.09076623965564469,
          0.0670501085373794,
          0.09456213021102712,
          0.0743624175288319,
          0.08830351914926574,
          0.08723241273499908,
          0.08619108457783174,
          0.09608871007462365,
          0.05671464856002051,
          0.052812094266725944,
          0.09088326292725801,
          0.07531114547663677,
          0.059847956926652145,
          0.0599295456489351,
          0.09063203423934216,
          0.08515136122342462,
          0.08116591368794776,
          0.07048231287073353,
          0.09386631065655571,
          0.07056207831800523,
          0.07641503140340757,
          0.0524025989545804,
          0.09962956575582024,
          0.06571686585852356,
          0.07133069462505363,
          0.06346240571135055,
          0.08145383866515159,
          0.07540541196537583,
          0.07244554879685838,
          0.06707352520872702,
          0.05802143698873355,
          0.0767174941525904,
          0.05795042334267644,
          0.05964857717191317,
          0.06356233387992292,
          0.062498350490857876,
          0.08240721297462554,
          0.05388575313788306,
          0.09342897222520541,
          0.055856781593378514,
          0.07498930961177451,
          0.07783333114834055,
          0.05043501676729106,
          0.0524518480858726,
          0.0581510346912737,
          0.060513025200705256,
          0.0894015498543946,
          0.07139419686127116,
          0.06939770667957791,
          0.06898383792929669,
          0.08255571716789276,
          0.08192324183571698,
          0.09917803563001638
         ]
        }
       ],
       "layout": {
        "template": {
         "data": {
          "bar": [
           {
            "error_x": {
             "color": "#2a3f5f"
            },
            "error_y": {
             "color": "#2a3f5f"
            },
            "marker": {
             "line": {
              "color": "#E5ECF6",
              "width": 0.5
             },
             "pattern": {
              "fillmode": "overlay",
              "size": 10,
              "solidity": 0.2
             }
            },
            "type": "bar"
           }
          ],
          "barpolar": [
           {
            "marker": {
             "line": {
              "color": "#E5ECF6",
              "width": 0.5
             },
             "pattern": {
              "fillmode": "overlay",
              "size": 10,
              "solidity": 0.2
             }
            },
            "type": "barpolar"
           }
          ],
          "carpet": [
           {
            "aaxis": {
             "endlinecolor": "#2a3f5f",
             "gridcolor": "white",
             "linecolor": "white",
             "minorgridcolor": "white",
             "startlinecolor": "#2a3f5f"
            },
            "baxis": {
             "endlinecolor": "#2a3f5f",
             "gridcolor": "white",
             "linecolor": "white",
             "minorgridcolor": "white",
             "startlinecolor": "#2a3f5f"
            },
            "type": "carpet"
           }
          ],
          "choropleth": [
           {
            "colorbar": {
             "outlinewidth": 0,
             "ticks": ""
            },
            "type": "choropleth"
           }
          ],
          "contour": [
           {
            "colorbar": {
             "outlinewidth": 0,
             "ticks": ""
            },
            "colorscale": [
             [
              0,
              "#0d0887"
             ],
             [
              0.1111111111111111,
              "#46039f"
             ],
             [
              0.2222222222222222,
              "#7201a8"
             ],
             [
              0.3333333333333333,
              "#9c179e"
             ],
             [
              0.4444444444444444,
              "#bd3786"
             ],
             [
              0.5555555555555556,
              "#d8576b"
             ],
             [
              0.6666666666666666,
              "#ed7953"
             ],
             [
              0.7777777777777778,
              "#fb9f3a"
             ],
             [
              0.8888888888888888,
              "#fdca26"
             ],
             [
              1,
              "#f0f921"
             ]
            ],
            "type": "contour"
           }
          ],
          "contourcarpet": [
           {
            "colorbar": {
             "outlinewidth": 0,
             "ticks": ""
            },
            "type": "contourcarpet"
           }
          ],
          "heatmap": [
           {
            "colorbar": {
             "outlinewidth": 0,
             "ticks": ""
            },
            "colorscale": [
             [
              0,
              "#0d0887"
             ],
             [
              0.1111111111111111,
              "#46039f"
             ],
             [
              0.2222222222222222,
              "#7201a8"
             ],
             [
              0.3333333333333333,
              "#9c179e"
             ],
             [
              0.4444444444444444,
              "#bd3786"
             ],
             [
              0.5555555555555556,
              "#d8576b"
             ],
             [
              0.6666666666666666,
              "#ed7953"
             ],
             [
              0.7777777777777778,
              "#fb9f3a"
             ],
             [
              0.8888888888888888,
              "#fdca26"
             ],
             [
              1,
              "#f0f921"
             ]
            ],
            "type": "heatmap"
           }
          ],
          "heatmapgl": [
           {
            "colorbar": {
             "outlinewidth": 0,
             "ticks": ""
            },
            "colorscale": [
             [
              0,
              "#0d0887"
             ],
             [
              0.1111111111111111,
              "#46039f"
             ],
             [
              0.2222222222222222,
              "#7201a8"
             ],
             [
              0.3333333333333333,
              "#9c179e"
             ],
             [
              0.4444444444444444,
              "#bd3786"
             ],
             [
              0.5555555555555556,
              "#d8576b"
             ],
             [
              0.6666666666666666,
              "#ed7953"
             ],
             [
              0.7777777777777778,
              "#fb9f3a"
             ],
             [
              0.8888888888888888,
              "#fdca26"
             ],
             [
              1,
              "#f0f921"
             ]
            ],
            "type": "heatmapgl"
           }
          ],
          "histogram": [
           {
            "marker": {
             "pattern": {
              "fillmode": "overlay",
              "size": 10,
              "solidity": 0.2
             }
            },
            "type": "histogram"
           }
          ],
          "histogram2d": [
           {
            "colorbar": {
             "outlinewidth": 0,
             "ticks": ""
            },
            "colorscale": [
             [
              0,
              "#0d0887"
             ],
             [
              0.1111111111111111,
              "#46039f"
             ],
             [
              0.2222222222222222,
              "#7201a8"
             ],
             [
              0.3333333333333333,
              "#9c179e"
             ],
             [
              0.4444444444444444,
              "#bd3786"
             ],
             [
              0.5555555555555556,
              "#d8576b"
             ],
             [
              0.6666666666666666,
              "#ed7953"
             ],
             [
              0.7777777777777778,
              "#fb9f3a"
             ],
             [
              0.8888888888888888,
              "#fdca26"
             ],
             [
              1,
              "#f0f921"
             ]
            ],
            "type": "histogram2d"
           }
          ],
          "histogram2dcontour": [
           {
            "colorbar": {
             "outlinewidth": 0,
             "ticks": ""
            },
            "colorscale": [
             [
              0,
              "#0d0887"
             ],
             [
              0.1111111111111111,
              "#46039f"
             ],
             [
              0.2222222222222222,
              "#7201a8"
             ],
             [
              0.3333333333333333,
              "#9c179e"
             ],
             [
              0.4444444444444444,
              "#bd3786"
             ],
             [
              0.5555555555555556,
              "#d8576b"
             ],
             [
              0.6666666666666666,
              "#ed7953"
             ],
             [
              0.7777777777777778,
              "#fb9f3a"
             ],
             [
              0.8888888888888888,
              "#fdca26"
             ],
             [
              1,
              "#f0f921"
             ]
            ],
            "type": "histogram2dcontour"
           }
          ],
          "mesh3d": [
           {
            "colorbar": {
             "outlinewidth": 0,
             "ticks": ""
            },
            "type": "mesh3d"
           }
          ],
          "parcoords": [
           {
            "line": {
             "colorbar": {
              "outlinewidth": 0,
              "ticks": ""
             }
            },
            "type": "parcoords"
           }
          ],
          "pie": [
           {
            "automargin": true,
            "type": "pie"
           }
          ],
          "scatter": [
           {
            "fillpattern": {
             "fillmode": "overlay",
             "size": 10,
             "solidity": 0.2
            },
            "type": "scatter"
           }
          ],
          "scatter3d": [
           {
            "line": {
             "colorbar": {
              "outlinewidth": 0,
              "ticks": ""
             }
            },
            "marker": {
             "colorbar": {
              "outlinewidth": 0,
              "ticks": ""
             }
            },
            "type": "scatter3d"
           }
          ],
          "scattercarpet": [
           {
            "marker": {
             "colorbar": {
              "outlinewidth": 0,
              "ticks": ""
             }
            },
            "type": "scattercarpet"
           }
          ],
          "scattergeo": [
           {
            "marker": {
             "colorbar": {
              "outlinewidth": 0,
              "ticks": ""
             }
            },
            "type": "scattergeo"
           }
          ],
          "scattergl": [
           {
            "marker": {
             "colorbar": {
              "outlinewidth": 0,
              "ticks": ""
             }
            },
            "type": "scattergl"
           }
          ],
          "scattermapbox": [
           {
            "marker": {
             "colorbar": {
              "outlinewidth": 0,
              "ticks": ""
             }
            },
            "type": "scattermapbox"
           }
          ],
          "scatterpolar": [
           {
            "marker": {
             "colorbar": {
              "outlinewidth": 0,
              "ticks": ""
             }
            },
            "type": "scatterpolar"
           }
          ],
          "scatterpolargl": [
           {
            "marker": {
             "colorbar": {
              "outlinewidth": 0,
              "ticks": ""
             }
            },
            "type": "scatterpolargl"
           }
          ],
          "scatterternary": [
           {
            "marker": {
             "colorbar": {
              "outlinewidth": 0,
              "ticks": ""
             }
            },
            "type": "scatterternary"
           }
          ],
          "surface": [
           {
            "colorbar": {
             "outlinewidth": 0,
             "ticks": ""
            },
            "colorscale": [
             [
              0,
              "#0d0887"
             ],
             [
              0.1111111111111111,
              "#46039f"
             ],
             [
              0.2222222222222222,
              "#7201a8"
             ],
             [
              0.3333333333333333,
              "#9c179e"
             ],
             [
              0.4444444444444444,
              "#bd3786"
             ],
             [
              0.5555555555555556,
              "#d8576b"
             ],
             [
              0.6666666666666666,
              "#ed7953"
             ],
             [
              0.7777777777777778,
              "#fb9f3a"
             ],
             [
              0.8888888888888888,
              "#fdca26"
             ],
             [
              1,
              "#f0f921"
             ]
            ],
            "type": "surface"
           }
          ],
          "table": [
           {
            "cells": {
             "fill": {
              "color": "#EBF0F8"
             },
             "line": {
              "color": "white"
             }
            },
            "header": {
             "fill": {
              "color": "#C8D4E3"
             },
             "line": {
              "color": "white"
             }
            },
            "type": "table"
           }
          ]
         },
         "layout": {
          "annotationdefaults": {
           "arrowcolor": "#2a3f5f",
           "arrowhead": 0,
           "arrowwidth": 1
          },
          "autotypenumbers": "strict",
          "coloraxis": {
           "colorbar": {
            "outlinewidth": 0,
            "ticks": ""
           }
          },
          "colorscale": {
           "diverging": [
            [
             0,
             "#8e0152"
            ],
            [
             0.1,
             "#c51b7d"
            ],
            [
             0.2,
             "#de77ae"
            ],
            [
             0.3,
             "#f1b6da"
            ],
            [
             0.4,
             "#fde0ef"
            ],
            [
             0.5,
             "#f7f7f7"
            ],
            [
             0.6,
             "#e6f5d0"
            ],
            [
             0.7,
             "#b8e186"
            ],
            [
             0.8,
             "#7fbc41"
            ],
            [
             0.9,
             "#4d9221"
            ],
            [
             1,
             "#276419"
            ]
           ],
           "sequential": [
            [
             0,
             "#0d0887"
            ],
            [
             0.1111111111111111,
             "#46039f"
            ],
            [
             0.2222222222222222,
             "#7201a8"
            ],
            [
             0.3333333333333333,
             "#9c179e"
            ],
            [
             0.4444444444444444,
             "#bd3786"
            ],
            [
             0.5555555555555556,
             "#d8576b"
            ],
            [
             0.6666666666666666,
             "#ed7953"
            ],
            [
             0.7777777777777778,
             "#fb9f3a"
            ],
            [
             0.8888888888888888,
             "#fdca26"
            ],
            [
             1,
             "#f0f921"
            ]
           ],
           "sequentialminus": [
            [
             0,
             "#0d0887"
            ],
            [
             0.1111111111111111,
             "#46039f"
            ],
            [
             0.2222222222222222,
             "#7201a8"
            ],
            [
             0.3333333333333333,
             "#9c179e"
            ],
            [
             0.4444444444444444,
             "#bd3786"
            ],
            [
             0.5555555555555556,
             "#d8576b"
            ],
            [
             0.6666666666666666,
             "#ed7953"
            ],
            [
             0.7777777777777778,
             "#fb9f3a"
            ],
            [
             0.8888888888888888,
             "#fdca26"
            ],
            [
             1,
             "#f0f921"
            ]
           ]
          },
          "colorway": [
           "#636efa",
           "#EF553B",
           "#00cc96",
           "#ab63fa",
           "#FFA15A",
           "#19d3f3",
           "#FF6692",
           "#B6E880",
           "#FF97FF",
           "#FECB52"
          ],
          "font": {
           "color": "#2a3f5f"
          },
          "geo": {
           "bgcolor": "white",
           "lakecolor": "white",
           "landcolor": "#E5ECF6",
           "showlakes": true,
           "showland": true,
           "subunitcolor": "white"
          },
          "hoverlabel": {
           "align": "left"
          },
          "hovermode": "closest",
          "mapbox": {
           "style": "light"
          },
          "paper_bgcolor": "white",
          "plot_bgcolor": "#E5ECF6",
          "polar": {
           "angularaxis": {
            "gridcolor": "white",
            "linecolor": "white",
            "ticks": ""
           },
           "bgcolor": "#E5ECF6",
           "radialaxis": {
            "gridcolor": "white",
            "linecolor": "white",
            "ticks": ""
           }
          },
          "scene": {
           "xaxis": {
            "backgroundcolor": "#E5ECF6",
            "gridcolor": "white",
            "gridwidth": 2,
            "linecolor": "white",
            "showbackground": true,
            "ticks": "",
            "zerolinecolor": "white"
           },
           "yaxis": {
            "backgroundcolor": "#E5ECF6",
            "gridcolor": "white",
            "gridwidth": 2,
            "linecolor": "white",
            "showbackground": true,
            "ticks": "",
            "zerolinecolor": "white"
           },
           "zaxis": {
            "backgroundcolor": "#E5ECF6",
            "gridcolor": "white",
            "gridwidth": 2,
            "linecolor": "white",
            "showbackground": true,
            "ticks": "",
            "zerolinecolor": "white"
           }
          },
          "shapedefaults": {
           "line": {
            "color": "#2a3f5f"
           }
          },
          "ternary": {
           "aaxis": {
            "gridcolor": "white",
            "linecolor": "white",
            "ticks": ""
           },
           "baxis": {
            "gridcolor": "white",
            "linecolor": "white",
            "ticks": ""
           },
           "bgcolor": "#E5ECF6",
           "caxis": {
            "gridcolor": "white",
            "linecolor": "white",
            "ticks": ""
           }
          },
          "title": {
           "x": 0.05
          },
          "xaxis": {
           "automargin": true,
           "gridcolor": "white",
           "linecolor": "white",
           "ticks": "",
           "title": {
            "standoff": 15
           },
           "zerolinecolor": "white",
           "zerolinewidth": 2
          },
          "yaxis": {
           "automargin": true,
           "gridcolor": "white",
           "linecolor": "white",
           "ticks": "",
           "title": {
            "standoff": 15
           },
           "zerolinecolor": "white",
           "zerolinewidth": 2
          }
         }
        },
        "xaxis": {
         "range": [
          0,
          20
         ],
         "title": {
          "text": "answer_duration_sec"
         }
        },
        "yaxis": {
         "title": {
          "text": "correct_rate"
         }
        }
       }
      }
     },
     "metadata": {},
     "output_type": "display_data"
    }
   ],
   "source": [
    "fig = go.Figure([\n",
    "    go.Scatter(\n",
    "        x=df_['answer_duration_sec'],\n",
    "        y=df_['correct_rate'],\n",
    "        mode='lines',\n",
    "    )\n",
    "]).update_xaxes(range=[0, 20]).update_layout(\n",
    "    xaxis=dict(\n",
    "        title=dict(\n",
    "            text=\"answer_duration_sec\"\n",
    "        )\n",
    "    ),\n",
    "    yaxis=dict(\n",
    "        title=dict(\n",
    "            text=\"correct_rate\"\n",
    "        )\n",
    "    ),\n",
    ")\n",
    "fig.show()"
   ]
  },
  {
   "cell_type": "code",
   "execution_count": null,
   "metadata": {},
   "outputs": [],
   "source": []
  }
 ],
 "metadata": {
  "colab": {
   "provenance": []
  },
  "kernelspec": {
   "display_name": "venv",
   "language": "python",
   "name": "python3"
  },
  "language_info": {
   "codemirror_mode": {
    "name": "ipython",
    "version": 3
   },
   "file_extension": ".py",
   "mimetype": "text/x-python",
   "name": "python",
   "nbconvert_exporter": "python",
   "pygments_lexer": "ipython3",
   "version": "3.11.8"
  }
 },
 "nbformat": 4,
 "nbformat_minor": 0
}
