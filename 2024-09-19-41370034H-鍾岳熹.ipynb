{
 "cells": [
  {
   "cell_type": "markdown",
   "metadata": {},
   "source": [
    "作品名稱: 成為Hello World大師吧!"
   ]
  },
  {
   "cell_type": "markdown",
   "metadata": {},
   "source": [
    "課堂知識運用: dictionary, for loop, if-else condition"
   ]
  },
  {
   "cell_type": "code",
   "execution_count": 1,
   "metadata": {},
   "outputs": [
    {
     "name": "stdout",
     "output_type": "stream",
     "text": [
      "Hello World是程式的起點，我只要會多種Hello World的語言，我一定是強大的工程師!!!\n",
      "想要查詢幾個程式語言的Hello World?\n",
      "\n",
      "可查詢的程式語言有: python, java, c, cpp, javascript, ruby, php, swift, go, rust\n",
      "你想要查詢哪種程式呢?\n",
      "\n",
      "python Hello World程式語法如下:\n",
      "print(\"Hello, World!\")\n",
      "\n",
      "python 這語言我已經掌握了!\n"
     ]
    }
   ],
   "source": [
    "# 定義可查詢的程式語言和其對應的 Hello World 程式碼\n",
    "languages = {\n",
    "    \"python\": 'print(\"Hello, World!\")',\n",
    "    \"java\": 'public class Main {\\n    public static void main(String[] args) {\\n        System.out.println(\"Hello, World!\");\\n    }\\n}',\n",
    "    \"c\": '#include <stdio.h>\\n\\nint main() {\\n    printf(\"Hello, World!\\\\n\");\\n    return 0;\\n}',\n",
    "    \"cpp\": '#include <iostream>\\n\\nint main() {\\n    std::cout << \"Hello, World!\" << std::endl;\\n    return 0;\\n}',\n",
    "    \"javascript\": 'console.log(\"Hello, World!\");',\n",
    "    \"ruby\": 'puts \"Hello, World!\"',\n",
    "    \"php\": '<?php\\n  echo \"Hello, World!\";\\n?>',\n",
    "    \"swift\": 'print(\"Hello, World!\")',\n",
    "    \"go\": 'package main\\nimport \"fmt\"\\n\\nfunc main() {\\n    fmt.Println(\"Hello, World!\")\\n}',\n",
    "    \"rust\": 'fn main() {\\n    println!(\"Hello, World!\");\\n}'\n",
    "}\n",
    "\n",
    "print(\"Hello World是程式的起點，我只要會多種Hello World的語言，我一定是強大的工程師!!!\")\n",
    "\n",
    "# 輸入查詢次數\n",
    "print(\"想要查詢幾個程式語言的Hello World?\")\n",
    "num = int(input())\n",
    "\n",
    "# 查詢多種語言\n",
    "for i in range(num):\n",
    "    print(\"\\n可查詢的程式語言有: python, java, c, cpp, javascript, ruby, php, swift, go, rust\")\n",
    "    print(\"你想要查詢哪種程式呢?\")\n",
    "    code = input().lower()\n",
    "\n",
    "    # 檢查輸入的語言是否在定義的語言列表中\n",
    "    if code in languages:\n",
    "        print(f\"\\n{code} Hello World程式語法如下:\")\n",
    "        print(languages[code])\n",
    "        print(f\"\\n{code} 這語言我已經掌握了!\")\n",
    "    else:\n",
    "        print(\"抱歉，這個語言目前不支援查詢。\")\n",
    "\n"
   ]
  },
  {
   "cell_type": "markdown",
   "metadata": {},
   "source": []
  }
 ],
 "metadata": {
  "kernelspec": {
   "display_name": "Python 3",
   "language": "python",
   "name": "python3"
  },
  "language_info": {
   "codemirror_mode": {
    "name": "ipython",
    "version": 3
   },
   "file_extension": ".py",
   "mimetype": "text/x-python",
   "name": "python",
   "nbconvert_exporter": "python",
   "pygments_lexer": "ipython3",
   "version": "3.11.4"
  }
 },
 "nbformat": 4,
 "nbformat_minor": 2
}
